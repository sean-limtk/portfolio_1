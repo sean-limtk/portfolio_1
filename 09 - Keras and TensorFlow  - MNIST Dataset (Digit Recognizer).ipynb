{
 "cells": [
  {
   "cell_type": "markdown",
   "metadata": {},
   "source": [
    "# Keras and TensorFlow  - MNIST Dataset (Digit Recognizer)\n",
    "\n",
    "## Introduction\n",
    "\n",
    "The MNIST database (Modified National Institute of Standards and Technology database) is a large database of handwritten digits that is commonly used for training various image processing systems, and has been widely used for training and testing in the field of machine learning since its release in 1999.\n",
    "\n",
    "In this notebook, we will be using Keras (with TensorFlow as our backend) as the main package to create a simple neural network to predict digits from handwritten images. In particular, we will be calling the Functional Model API of Keras, and creating a 4-layered and 5-layered neural network.\n",
    "\n",
    "We will be experimenting with Stochastic Gradient Descent and Adam as the optimizers, as well as dropout, which is used to  prevent overfitting in neural networks.  However, we will not be tinkering with other parameters such as training epochs or hidden layer units."
   ]
  },
  {
   "cell_type": "markdown",
   "metadata": {},
   "source": [
    "## Import Libraries"
   ]
  },
  {
   "cell_type": "code",
   "execution_count": 1,
   "metadata": {},
   "outputs": [
    {
     "name": "stderr",
     "output_type": "stream",
     "text": [
      "Using TensorFlow backend.\n"
     ]
    }
   ],
   "source": [
    "import numpy as np\n",
    "import pandas as pd\n",
    "import matplotlib.pyplot as plt\n",
    "\n",
    "np.random.seed(1212)\n",
    "\n",
    "import keras\n",
    "from keras.models import Model\n",
    "from keras.layers import *\n",
    "from keras import optimizers"
   ]
  },
  {
   "cell_type": "markdown",
   "metadata": {},
   "source": [
    "## Data Exploration"
   ]
  },
  {
   "cell_type": "code",
   "execution_count": 2,
   "metadata": {},
   "outputs": [],
   "source": [
    "df_train = pd.read_csv('train.csv')\n",
    "df_test = pd.read_csv('test.csv')"
   ]
  },
  {
   "cell_type": "code",
   "execution_count": 3,
   "metadata": {},
   "outputs": [
    {
     "data": {
      "text/html": [
       "<div>\n",
       "<style scoped>\n",
       "    .dataframe tbody tr th:only-of-type {\n",
       "        vertical-align: middle;\n",
       "    }\n",
       "\n",
       "    .dataframe tbody tr th {\n",
       "        vertical-align: top;\n",
       "    }\n",
       "\n",
       "    .dataframe thead th {\n",
       "        text-align: right;\n",
       "    }\n",
       "</style>\n",
       "<table border=\"1\" class=\"dataframe\">\n",
       "  <thead>\n",
       "    <tr style=\"text-align: right;\">\n",
       "      <th></th>\n",
       "      <th>label</th>\n",
       "      <th>pixel0</th>\n",
       "      <th>pixel1</th>\n",
       "      <th>pixel2</th>\n",
       "      <th>pixel3</th>\n",
       "      <th>pixel4</th>\n",
       "      <th>pixel5</th>\n",
       "      <th>pixel6</th>\n",
       "      <th>pixel7</th>\n",
       "      <th>pixel8</th>\n",
       "      <th>...</th>\n",
       "      <th>pixel774</th>\n",
       "      <th>pixel775</th>\n",
       "      <th>pixel776</th>\n",
       "      <th>pixel777</th>\n",
       "      <th>pixel778</th>\n",
       "      <th>pixel779</th>\n",
       "      <th>pixel780</th>\n",
       "      <th>pixel781</th>\n",
       "      <th>pixel782</th>\n",
       "      <th>pixel783</th>\n",
       "    </tr>\n",
       "  </thead>\n",
       "  <tbody>\n",
       "    <tr>\n",
       "      <th>0</th>\n",
       "      <td>1</td>\n",
       "      <td>0</td>\n",
       "      <td>0</td>\n",
       "      <td>0</td>\n",
       "      <td>0</td>\n",
       "      <td>0</td>\n",
       "      <td>0</td>\n",
       "      <td>0</td>\n",
       "      <td>0</td>\n",
       "      <td>0</td>\n",
       "      <td>...</td>\n",
       "      <td>0</td>\n",
       "      <td>0</td>\n",
       "      <td>0</td>\n",
       "      <td>0</td>\n",
       "      <td>0</td>\n",
       "      <td>0</td>\n",
       "      <td>0</td>\n",
       "      <td>0</td>\n",
       "      <td>0</td>\n",
       "      <td>0</td>\n",
       "    </tr>\n",
       "    <tr>\n",
       "      <th>1</th>\n",
       "      <td>0</td>\n",
       "      <td>0</td>\n",
       "      <td>0</td>\n",
       "      <td>0</td>\n",
       "      <td>0</td>\n",
       "      <td>0</td>\n",
       "      <td>0</td>\n",
       "      <td>0</td>\n",
       "      <td>0</td>\n",
       "      <td>0</td>\n",
       "      <td>...</td>\n",
       "      <td>0</td>\n",
       "      <td>0</td>\n",
       "      <td>0</td>\n",
       "      <td>0</td>\n",
       "      <td>0</td>\n",
       "      <td>0</td>\n",
       "      <td>0</td>\n",
       "      <td>0</td>\n",
       "      <td>0</td>\n",
       "      <td>0</td>\n",
       "    </tr>\n",
       "    <tr>\n",
       "      <th>2</th>\n",
       "      <td>1</td>\n",
       "      <td>0</td>\n",
       "      <td>0</td>\n",
       "      <td>0</td>\n",
       "      <td>0</td>\n",
       "      <td>0</td>\n",
       "      <td>0</td>\n",
       "      <td>0</td>\n",
       "      <td>0</td>\n",
       "      <td>0</td>\n",
       "      <td>...</td>\n",
       "      <td>0</td>\n",
       "      <td>0</td>\n",
       "      <td>0</td>\n",
       "      <td>0</td>\n",
       "      <td>0</td>\n",
       "      <td>0</td>\n",
       "      <td>0</td>\n",
       "      <td>0</td>\n",
       "      <td>0</td>\n",
       "      <td>0</td>\n",
       "    </tr>\n",
       "    <tr>\n",
       "      <th>3</th>\n",
       "      <td>4</td>\n",
       "      <td>0</td>\n",
       "      <td>0</td>\n",
       "      <td>0</td>\n",
       "      <td>0</td>\n",
       "      <td>0</td>\n",
       "      <td>0</td>\n",
       "      <td>0</td>\n",
       "      <td>0</td>\n",
       "      <td>0</td>\n",
       "      <td>...</td>\n",
       "      <td>0</td>\n",
       "      <td>0</td>\n",
       "      <td>0</td>\n",
       "      <td>0</td>\n",
       "      <td>0</td>\n",
       "      <td>0</td>\n",
       "      <td>0</td>\n",
       "      <td>0</td>\n",
       "      <td>0</td>\n",
       "      <td>0</td>\n",
       "    </tr>\n",
       "    <tr>\n",
       "      <th>4</th>\n",
       "      <td>0</td>\n",
       "      <td>0</td>\n",
       "      <td>0</td>\n",
       "      <td>0</td>\n",
       "      <td>0</td>\n",
       "      <td>0</td>\n",
       "      <td>0</td>\n",
       "      <td>0</td>\n",
       "      <td>0</td>\n",
       "      <td>0</td>\n",
       "      <td>...</td>\n",
       "      <td>0</td>\n",
       "      <td>0</td>\n",
       "      <td>0</td>\n",
       "      <td>0</td>\n",
       "      <td>0</td>\n",
       "      <td>0</td>\n",
       "      <td>0</td>\n",
       "      <td>0</td>\n",
       "      <td>0</td>\n",
       "      <td>0</td>\n",
       "    </tr>\n",
       "  </tbody>\n",
       "</table>\n",
       "<p>5 rows × 785 columns</p>\n",
       "</div>"
      ],
      "text/plain": [
       "   label  pixel0  pixel1  pixel2  pixel3  pixel4  pixel5  pixel6  pixel7  \\\n",
       "0      1       0       0       0       0       0       0       0       0   \n",
       "1      0       0       0       0       0       0       0       0       0   \n",
       "2      1       0       0       0       0       0       0       0       0   \n",
       "3      4       0       0       0       0       0       0       0       0   \n",
       "4      0       0       0       0       0       0       0       0       0   \n",
       "\n",
       "   pixel8  ...  pixel774  pixel775  pixel776  pixel777  pixel778  pixel779  \\\n",
       "0       0  ...         0         0         0         0         0         0   \n",
       "1       0  ...         0         0         0         0         0         0   \n",
       "2       0  ...         0         0         0         0         0         0   \n",
       "3       0  ...         0         0         0         0         0         0   \n",
       "4       0  ...         0         0         0         0         0         0   \n",
       "\n",
       "   pixel780  pixel781  pixel782  pixel783  \n",
       "0         0         0         0         0  \n",
       "1         0         0         0         0  \n",
       "2         0         0         0         0  \n",
       "3         0         0         0         0  \n",
       "4         0         0         0         0  \n",
       "\n",
       "[5 rows x 785 columns]"
      ]
     },
     "execution_count": 3,
     "metadata": {},
     "output_type": "execute_result"
    }
   ],
   "source": [
    "df_train.head()"
   ]
  },
  {
   "cell_type": "code",
   "execution_count": 4,
   "metadata": {},
   "outputs": [
    {
     "data": {
      "text/plain": [
       "(42000, 785)"
      ]
     },
     "execution_count": 4,
     "metadata": {},
     "output_type": "execute_result"
    }
   ],
   "source": [
    "df_train.shape"
   ]
  },
  {
   "cell_type": "markdown",
   "metadata": {},
   "source": [
    "## Visualising the data"
   ]
  },
  {
   "cell_type": "code",
   "execution_count": 5,
   "metadata": {},
   "outputs": [],
   "source": [
    "# visualise the label based on feature columns\n",
    "# argument = row number of train dataframe\n",
    "def plot_minst(row):\n",
    "    # Reading mnist train dataset as a pandas dataframe\n",
    "    s = pd.read_csv(\"train.csv\")\n",
    "    # Converting the pandas dataframe to a numpy matrix\n",
    "    data = np.matrix(s)\n",
    "    # Keep only the feature columns in the row\n",
    "    data = np.delete(data, row, 1)\n",
    "    # First row has 784 pixels (28*28), reshape to (28*28) np.array\n",
    "    img = data[row].reshape(28,28)\n",
    "    # Plot the image\n",
    "    plt.imshow(img, cmap=\"gray\")"
   ]
  },
  {
   "cell_type": "code",
   "execution_count": 6,
   "metadata": {},
   "outputs": [
    {
     "data": {
      "image/png": "[encoded data removed]",
      "text/plain": [
       "<Figure size 432x288 with 1 Axes>"
      ]
     },
     "metadata": {
      "needs_background": "light"
     },
     "output_type": "display_data"
    }
   ],
   "source": [
    "# visualise row 0\n",
    "plot_minst(0)"
   ]
  },
  {
   "cell_type": "code",
   "execution_count": 7,
   "metadata": {},
   "outputs": [
    {
     "data": {
      "image/png": "[encoded data removed]",
      "text/plain": [
       "<Figure size 432x288 with 1 Axes>"
      ]
     },
     "metadata": {
      "needs_background": "light"
     },
     "output_type": "display_data"
    }
   ],
   "source": [
    "# visualise row 20\n",
    "plot_minst(20)"
   ]
  },
  {
   "cell_type": "markdown",
   "metadata": {},
   "source": [
    "## Splitting into training and validation dataset"
   ]
  },
  {
   "cell_type": "code",
   "execution_count": 8,
   "metadata": {},
   "outputs": [
    {
     "name": "stdout",
     "output_type": "stream",
     "text": [
      "(28000, 784)\n"
     ]
    }
   ],
   "source": [
    "df_features = df_train.iloc[:, 1:785]\n",
    "df_label = df_train.iloc[:, 0]\n",
    "\n",
    "X_test = df_test.iloc[:, 0:784]\n",
    "\n",
    "print(X_test.shape)"
   ]
  },
  {
   "cell_type": "code",
   "execution_count": 9,
   "metadata": {},
   "outputs": [],
   "source": [
    "from sklearn.model_selection import train_test_split\n",
    "X_train, X_cv, y_train, y_cv = train_test_split(df_features, df_label, \n",
    "                                                test_size = 0.2,\n",
    "                                                random_state = 1212)"
   ]
  },
  {
   "cell_type": "code",
   "execution_count": 10,
   "metadata": {},
   "outputs": [
    {
     "data": {
      "text/plain": [
       "(33600,)"
      ]
     },
     "execution_count": 10,
     "metadata": {},
     "output_type": "execute_result"
    }
   ],
   "source": [
    "y_train.shape"
   ]
  },
  {
   "cell_type": "code",
   "execution_count": 11,
   "metadata": {
    "scrolled": true
   },
   "outputs": [
    {
     "data": {
      "text/plain": [
       "(33600, 784)"
      ]
     },
     "execution_count": 11,
     "metadata": {},
     "output_type": "execute_result"
    }
   ],
   "source": [
    "X_train.shape"
   ]
  },
  {
   "cell_type": "code",
   "execution_count": 12,
   "metadata": {},
   "outputs": [
    {
     "data": {
      "text/plain": [
       "33600.0"
      ]
     },
     "execution_count": 12,
     "metadata": {},
     "output_type": "execute_result"
    }
   ],
   "source": [
    "42000 * .8"
   ]
  },
  {
   "cell_type": "code",
   "execution_count": 13,
   "metadata": {
    "scrolled": true
   },
   "outputs": [
    {
     "name": "stderr",
     "output_type": "stream",
     "text": [
      "C:\\Users\\User\\Anaconda3\\lib\\site-packages\\ipykernel_launcher.py:1: FutureWarning: Method .as_matrix will be removed in a future version. Use .values instead.\n",
      "  \"\"\"Entry point for launching an IPython kernel.\n"
     ]
    }
   ],
   "source": [
    "X_train = X_train.as_matrix().reshape(33600, 784)"
   ]
  },
  {
   "cell_type": "code",
   "execution_count": 14,
   "metadata": {},
   "outputs": [
    {
     "data": {
      "text/plain": [
       "(8400, 784)"
      ]
     },
     "execution_count": 14,
     "metadata": {},
     "output_type": "execute_result"
    }
   ],
   "source": [
    "X_cv.shape"
   ]
  },
  {
   "cell_type": "code",
   "execution_count": 15,
   "metadata": {},
   "outputs": [
    {
     "name": "stderr",
     "output_type": "stream",
     "text": [
      "C:\\Users\\User\\Anaconda3\\lib\\site-packages\\ipykernel_launcher.py:1: FutureWarning: Method .as_matrix will be removed in a future version. Use .values instead.\n",
      "  \"\"\"Entry point for launching an IPython kernel.\n"
     ]
    }
   ],
   "source": [
    "X_cv = X_cv.as_matrix().reshape(8400, 784)"
   ]
  },
  {
   "cell_type": "code",
   "execution_count": 16,
   "metadata": {},
   "outputs": [
    {
     "data": {
      "text/plain": [
       "dtype('int64')"
      ]
     },
     "execution_count": 16,
     "metadata": {},
     "output_type": "execute_result"
    }
   ],
   "source": [
    "X_cv.dtype"
   ]
  },
  {
   "cell_type": "code",
   "execution_count": 17,
   "metadata": {},
   "outputs": [
    {
     "name": "stderr",
     "output_type": "stream",
     "text": [
      "C:\\Users\\User\\Anaconda3\\lib\\site-packages\\ipykernel_launcher.py:1: FutureWarning: Method .as_matrix will be removed in a future version. Use .values instead.\n",
      "  \"\"\"Entry point for launching an IPython kernel.\n"
     ]
    }
   ],
   "source": [
    "X_test = X_test.as_matrix().reshape(28000, 784)"
   ]
  },
  {
   "cell_type": "code",
   "execution_count": 18,
   "metadata": {},
   "outputs": [
    {
     "data": {
      "text/plain": [
       "array([[0, 0, 0, ..., 0, 0, 0],\n",
       "       [0, 0, 0, ..., 0, 0, 0],\n",
       "       [0, 0, 0, ..., 0, 0, 0],\n",
       "       ...,\n",
       "       [0, 0, 0, ..., 0, 0, 0],\n",
       "       [0, 0, 0, ..., 0, 0, 0],\n",
       "       [0, 0, 0, ..., 0, 0, 0]], dtype=int64)"
      ]
     },
     "execution_count": 18,
     "metadata": {},
     "output_type": "execute_result"
    }
   ],
   "source": [
    "X_test"
   ]
  },
  {
   "cell_type": "code",
   "execution_count": 19,
   "metadata": {},
   "outputs": [
    {
     "data": {
      "text/plain": [
       "array([[0, 0, 0, ..., 0, 0, 0],\n",
       "       [0, 0, 0, ..., 0, 0, 0],\n",
       "       [0, 0, 0, ..., 0, 0, 0],\n",
       "       ...,\n",
       "       [0, 0, 0, ..., 0, 0, 0],\n",
       "       [0, 0, 0, ..., 0, 0, 0],\n",
       "       [0, 0, 0, ..., 0, 0, 0]], dtype=int64)"
      ]
     },
     "execution_count": 19,
     "metadata": {},
     "output_type": "execute_result"
    }
   ],
   "source": [
    "X_cv"
   ]
  },
  {
   "cell_type": "markdown",
   "metadata": {},
   "source": [
    "## Data cleaning, normalization and selection"
   ]
  },
  {
   "cell_type": "code",
   "execution_count": 20,
   "metadata": {},
   "outputs": [
    {
     "name": "stdout",
     "output_type": "stream",
     "text": [
      "(0, 255)\n"
     ]
    }
   ],
   "source": [
    "print((min(X_train[1]), max(X_train[1])))"
   ]
  },
  {
   "cell_type": "markdown",
   "metadata": {},
   "source": [
    "As the pixel intensities are currently between the range of 0 and 255, we proceed to normalize the features, using broadcasting. In addition, we proceed to convert our labels from a class vector to binary One Hot Encoded"
   ]
  },
  {
   "cell_type": "code",
   "execution_count": 21,
   "metadata": {},
   "outputs": [
    {
     "data": {
      "text/plain": [
       "dtype('int64')"
      ]
     },
     "execution_count": 21,
     "metadata": {},
     "output_type": "execute_result"
    }
   ],
   "source": [
    "X_train.dtype"
   ]
  },
  {
   "cell_type": "code",
   "execution_count": 22,
   "metadata": {},
   "outputs": [],
   "source": [
    "# Feature Normalization \n",
    "X_train = X_train.astype('float32'); \n",
    "X_cv= X_cv.astype('float32'); \n",
    "X_test = X_test.astype('float32')"
   ]
  },
  {
   "cell_type": "code",
   "execution_count": 23,
   "metadata": {},
   "outputs": [
    {
     "data": {
      "text/plain": [
       "dtype('float32')"
      ]
     },
     "execution_count": 23,
     "metadata": {},
     "output_type": "execute_result"
    }
   ],
   "source": [
    "X_train.dtype"
   ]
  },
  {
   "cell_type": "code",
   "execution_count": 24,
   "metadata": {},
   "outputs": [],
   "source": [
    "X_train /= 255\n",
    "X_cv /= 255\n",
    "X_test /= 255"
   ]
  },
  {
   "cell_type": "code",
   "execution_count": 25,
   "metadata": {},
   "outputs": [],
   "source": [
    "# Convert labels to One Hot Encoded\n",
    "num_digits = 10\n",
    "y_train = keras.utils.to_categorical(y_train, num_digits)\n",
    "y_cv = keras.utils.to_categorical(y_cv, num_digits)"
   ]
  },
  {
   "cell_type": "code",
   "execution_count": 26,
   "metadata": {},
   "outputs": [
    {
     "name": "stdout",
     "output_type": "stream",
     "text": [
      "[0. 0. 1. 0. 0. 0. 0. 0. 0. 0.]\n",
      "[0. 0. 0. 0. 0. 0. 0. 1. 0. 0.]\n"
     ]
    }
   ],
   "source": [
    "# Printing 2 examples of labels after conversion\n",
    "print(y_train[0]) # 2\n",
    "print(y_train[3]) # 7"
   ]
  },
  {
   "cell_type": "markdown",
   "metadata": {},
   "source": [
    "## Model Fitting\n",
    "\n",
    "\n",
    "We proceed by fitting several simple neural network models using Keras (with TensorFlow as our backend) and collect their accuracy. The model that performs the best on the validation set will be used as the model of choice for the competition.\n",
    "\n",
    "Model 1: Simple Neural Network with 4 layers (300, 100, 100, 200)\n",
    "\n",
    "In our first model, we will use the Keras library to train a neural network with the activation function set as ReLu. To determine which class to output, we will rely on the SoftMax function.\n"
   ]
  },
  {
   "cell_type": "code",
   "execution_count": 27,
   "metadata": {},
   "outputs": [],
   "source": [
    "# Input Parameters\n",
    "n_input = 784 # number of features\n",
    "n_hidden_1 = 300\n",
    "n_hidden_2 = 100\n",
    "n_hidden_3 = 100\n",
    "n_hidden_4 = 200\n",
    "num_digits = 10"
   ]
  },
  {
   "cell_type": "code",
   "execution_count": 28,
   "metadata": {},
   "outputs": [
    {
     "name": "stdout",
     "output_type": "stream",
     "text": [
      "WARNING:tensorflow:From C:\\Users\\User\\Anaconda3\\lib\\site-packages\\tensorflow\\python\\framework\\op_def_library.py:263: colocate_with (from tensorflow.python.framework.ops) is deprecated and will be removed in a future version.\n",
      "Instructions for updating:\n",
      "Colocations handled automatically by placer.\n"
     ]
    }
   ],
   "source": [
    "Inp = Input(shape=(784,))\n",
    "x = Dense(n_hidden_1, activation='relu', name = \"Hidden_Layer_1\")(Inp)\n",
    "x = Dense(n_hidden_2, activation='relu', name = \"Hidden_Layer_2\")(x)\n",
    "x = Dense(n_hidden_3, activation='relu', name = \"Hidden_Layer_3\")(x)\n",
    "x = Dense(n_hidden_4, activation='relu', name = \"Hidden_Layer_4\")(x)\n",
    "output = Dense(num_digits, activation='softmax', name = \"Output_Layer\")(x)"
   ]
  },
  {
   "cell_type": "code",
   "execution_count": 29,
   "metadata": {},
   "outputs": [
    {
     "name": "stdout",
     "output_type": "stream",
     "text": [
      "_________________________________________________________________\n",
      "Layer (type)                 Output Shape              Param #   \n",
      "=================================================================\n",
      "input_1 (InputLayer)         (None, 784)               0         \n",
      "_________________________________________________________________\n",
      "Hidden_Layer_1 (Dense)       (None, 300)               235500    \n",
      "_________________________________________________________________\n",
      "Hidden_Layer_2 (Dense)       (None, 100)               30100     \n",
      "_________________________________________________________________\n",
      "Hidden_Layer_3 (Dense)       (None, 100)               10100     \n",
      "_________________________________________________________________\n",
      "Hidden_Layer_4 (Dense)       (None, 200)               20200     \n",
      "_________________________________________________________________\n",
      "Output_Layer (Dense)         (None, 10)                2010      \n",
      "=================================================================\n",
      "Total params: 297,910\n",
      "Trainable params: 297,910\n",
      "Non-trainable params: 0\n",
      "_________________________________________________________________\n"
     ]
    }
   ],
   "source": [
    "# Our model would have '6' layers - input layer, 4 hidden layer and 1 output layer\n",
    "model = Model(Inp, output)\n",
    "model.summary() # We have 297,910 parameters to estimate"
   ]
  },
  {
   "cell_type": "code",
   "execution_count": 30,
   "metadata": {},
   "outputs": [],
   "source": [
    "# Insert Hyperparameters\n",
    "learning_rate = 0.1\n",
    "training_epochs = 20\n",
    "batch_size = 100\n",
    "sgd = optimizers.SGD(lr=learning_rate)"
   ]
  },
  {
   "cell_type": "code",
   "execution_count": 31,
   "metadata": {},
   "outputs": [],
   "source": [
    "# We rely on the plain vanilla Stochastic Gradient Descent as our optimizing methodology\n",
    "model.compile(loss='categorical_crossentropy',\n",
    "              optimizer='sgd',\n",
    "              metrics=['accuracy'])"
   ]
  },
  {
   "cell_type": "code",
   "execution_count": 32,
   "metadata": {},
   "outputs": [
    {
     "name": "stdout",
     "output_type": "stream",
     "text": [
      "WARNING:tensorflow:From C:\\Users\\User\\Anaconda3\\lib\\site-packages\\tensorflow\\python\\ops\\math_ops.py:3066: to_int32 (from tensorflow.python.ops.math_ops) is deprecated and will be removed in a future version.\n",
      "Instructions for updating:\n",
      "Use tf.cast instead.\n",
      "Train on 33600 samples, validate on 8400 samples\n",
      "Epoch 1/20\n",
      " - 2s - loss: 1.8541 - acc: 0.4984 - val_loss: 1.0045 - val_acc: 0.7600\n",
      "Epoch 2/20\n",
      " - 3s - loss: 0.6480 - acc: 0.8298 - val_loss: 0.4634 - val_acc: 0.8729\n",
      "Epoch 3/20\n",
      " - 3s - loss: 0.4090 - acc: 0.8835 - val_loss: 0.3615 - val_acc: 0.8979\n",
      "Epoch 4/20\n",
      " - 3s - loss: 0.3372 - acc: 0.9026 - val_loss: 0.3119 - val_acc: 0.9104\n",
      "Epoch 5/20\n",
      " - 3s - loss: 0.2978 - acc: 0.9138 - val_loss: 0.2891 - val_acc: 0.9170\n",
      "Epoch 6/20\n",
      " - 3s - loss: 0.2683 - acc: 0.9228 - val_loss: 0.2650 - val_acc: 0.9240\n",
      "Epoch 7/20\n",
      " - 3s - loss: 0.2452 - acc: 0.9296 - val_loss: 0.2556 - val_acc: 0.9260\n",
      "Epoch 8/20\n",
      " - 3s - loss: 0.2272 - acc: 0.9352 - val_loss: 0.2321 - val_acc: 0.9340\n",
      "Epoch 9/20\n",
      " - 3s - loss: 0.2101 - acc: 0.9376 - val_loss: 0.2175 - val_acc: 0.9363\n",
      "Epoch 10/20\n",
      " - 3s - loss: 0.1952 - acc: 0.9437 - val_loss: 0.2053 - val_acc: 0.9396\n",
      "Epoch 11/20\n",
      " - 3s - loss: 0.1828 - acc: 0.9469 - val_loss: 0.1955 - val_acc: 0.9426\n",
      "Epoch 12/20\n",
      " - 3s - loss: 0.1708 - acc: 0.9504 - val_loss: 0.1850 - val_acc: 0.9446\n",
      "Epoch 13/20\n",
      " - 3s - loss: 0.1613 - acc: 0.9529 - val_loss: 0.1806 - val_acc: 0.9455\n",
      "Epoch 14/20\n",
      " - 3s - loss: 0.1516 - acc: 0.9561 - val_loss: 0.1763 - val_acc: 0.9470\n",
      "Epoch 15/20\n",
      " - 3s - loss: 0.1432 - acc: 0.9587 - val_loss: 0.1658 - val_acc: 0.9500\n",
      "Epoch 16/20\n",
      " - 3s - loss: 0.1353 - acc: 0.9607 - val_loss: 0.1596 - val_acc: 0.9531\n",
      "Epoch 17/20\n",
      " - 3s - loss: 0.1290 - acc: 0.9622 - val_loss: 0.1546 - val_acc: 0.9530\n",
      "Epoch 18/20\n",
      " - 3s - loss: 0.1217 - acc: 0.9644 - val_loss: 0.1479 - val_acc: 0.9565\n",
      "Epoch 19/20\n",
      " - 3s - loss: 0.1157 - acc: 0.9668 - val_loss: 0.1472 - val_acc: 0.9561\n",
      "Epoch 20/20\n",
      " - 3s - loss: 0.1101 - acc: 0.9682 - val_loss: 0.1410 - val_acc: 0.9581\n"
     ]
    }
   ],
   "source": [
    "history1 = model.fit(X_train, y_train,\n",
    "                     batch_size = batch_size,\n",
    "                     epochs = training_epochs,\n",
    "                     verbose = 2,\n",
    "                     validation_data=(X_cv, y_cv))"
   ]
  },
  {
   "cell_type": "markdown",
   "metadata": {},
   "source": [
    "\n",
    "\n",
    "Using a 4 layer neural network with:\n",
    "- 20 training epochs\n",
    "- A training batch size of 100\n",
    "- Hidden layers set as (300, 100, 100, 200)\n",
    "- Learning rate of 0.1\n",
    "\n",
    "Achieved a training score of around 96-98% and a test score of around 95 - 97%.\n",
    "\n",
    "Can we do better if we were to change the optimizer? To find out, we use the Adam optimizer for our second model, while maintaining the same parameter values for all other parameters.\n"
   ]
  },
  {
   "cell_type": "code",
   "execution_count": 33,
   "metadata": {},
   "outputs": [],
   "source": [
    "Inp = Input(shape=(784,))\n",
    "x = Dense(n_hidden_1, activation='relu', name = \"Hidden_Layer_1\")(Inp)\n",
    "x = Dense(n_hidden_2, activation='relu', name = \"Hidden_Layer_2\")(x)\n",
    "x = Dense(n_hidden_3, activation='relu', name = \"Hidden_Layer_3\")(x)\n",
    "x = Dense(n_hidden_4, activation='relu', name = \"Hidden_Layer_4\")(x)\n",
    "output = Dense(num_digits, activation='softmax', name = \"Output_Layer\")(x)\n",
    "\n",
    "# We rely on ADAM as our optimizing methodology\n",
    "adam = keras.optimizers.Adam(lr=learning_rate)\n",
    "model2 = Model(Inp, output)\n",
    "\n",
    "model2.compile(loss='categorical_crossentropy',\n",
    "              optimizer='adam',\n",
    "              metrics=['accuracy'])"
   ]
  },
  {
   "cell_type": "code",
   "execution_count": 34,
   "metadata": {},
   "outputs": [
    {
     "name": "stdout",
     "output_type": "stream",
     "text": [
      "Train on 33600 samples, validate on 8400 samples\n",
      "Epoch 1/20\n",
      " - 5s - loss: 0.3393 - acc: 0.8984 - val_loss: 0.1621 - val_acc: 0.9501\n",
      "Epoch 2/20\n",
      " - 4s - loss: 0.1270 - acc: 0.9601 - val_loss: 0.1280 - val_acc: 0.9613\n",
      "Epoch 3/20\n",
      " - 4s - loss: 0.0829 - acc: 0.9744 - val_loss: 0.1099 - val_acc: 0.9660\n",
      "Epoch 4/20\n",
      " - 4s - loss: 0.0618 - acc: 0.9792 - val_loss: 0.1282 - val_acc: 0.9623\n",
      "Epoch 5/20\n",
      " - 4s - loss: 0.0448 - acc: 0.9854 - val_loss: 0.1059 - val_acc: 0.9685\n",
      "Epoch 6/20\n",
      " - 4s - loss: 0.0390 - acc: 0.9867 - val_loss: 0.1047 - val_acc: 0.9721\n",
      "Epoch 7/20\n",
      " - 4s - loss: 0.0338 - acc: 0.9888 - val_loss: 0.1142 - val_acc: 0.9710\n",
      "Epoch 8/20\n",
      " - 4s - loss: 0.0280 - acc: 0.9911 - val_loss: 0.0920 - val_acc: 0.9755\n",
      "Epoch 9/20\n",
      " - 4s - loss: 0.0216 - acc: 0.9930 - val_loss: 0.1145 - val_acc: 0.9740\n",
      "Epoch 10/20\n",
      " - 4s - loss: 0.0255 - acc: 0.9918 - val_loss: 0.1185 - val_acc: 0.9706\n",
      "Epoch 11/20\n",
      " - 4s - loss: 0.0168 - acc: 0.9941 - val_loss: 0.1162 - val_acc: 0.9737\n",
      "Epoch 12/20\n",
      " - 4s - loss: 0.0195 - acc: 0.9937 - val_loss: 0.1227 - val_acc: 0.9735\n",
      "Epoch 13/20\n",
      " - 4s - loss: 0.0209 - acc: 0.9929 - val_loss: 0.1580 - val_acc: 0.9668\n",
      "Epoch 14/20\n",
      " - 4s - loss: 0.0144 - acc: 0.9951 - val_loss: 0.1172 - val_acc: 0.9755\n",
      "Epoch 15/20\n",
      " - 4s - loss: 0.0095 - acc: 0.9973 - val_loss: 0.1217 - val_acc: 0.9755\n",
      "Epoch 16/20\n",
      " - 4s - loss: 0.0131 - acc: 0.9956 - val_loss: 0.1214 - val_acc: 0.9755\n",
      "Epoch 17/20\n",
      " - 4s - loss: 0.0162 - acc: 0.9949 - val_loss: 0.1294 - val_acc: 0.9737\n",
      "Epoch 18/20\n",
      " - 4s - loss: 0.0194 - acc: 0.9941 - val_loss: 0.1090 - val_acc: 0.9758\n",
      "Epoch 19/20\n",
      " - 4s - loss: 0.0086 - acc: 0.9975 - val_loss: 0.1293 - val_acc: 0.9750\n",
      "Epoch 20/20\n",
      " - 4s - loss: 0.0083 - acc: 0.9975 - val_loss: 0.1112 - val_acc: 0.9762\n"
     ]
    }
   ],
   "source": [
    "history2 = model2.fit(X_train, y_train,\n",
    "                      batch_size = batch_size,\n",
    "                      epochs = training_epochs,\n",
    "                      verbose = 2,\n",
    "                      validation_data=(X_cv, y_cv))"
   ]
  },
  {
   "cell_type": "markdown",
   "metadata": {},
   "source": [
    "\n",
    "\n",
    "As it turns out, it does appear to be the case that the optimizer plays a crucial part in the validation score. In particular, the model which relies on 'Adam' as its optimizer tend to perform 1.5 - 2.5% better on average. Going forward, we will use 'Adam' as our optimizer of choice.\n",
    "\n",
    "Let us see the impact of changing the learning rate from 0.1 to 0.01 on the model accuracy, using Model 2A.  We will keep 'Adam' as the optimizer."
   ]
  },
  {
   "cell_type": "code",
   "execution_count": 35,
   "metadata": {},
   "outputs": [],
   "source": [
    "Inp = Input(shape=(784,))\n",
    "x = Dense(n_hidden_1, activation='relu', name = \"Hidden_Layer_1\")(Inp)\n",
    "x = Dense(n_hidden_2, activation='relu', name = \"Hidden_Layer_2\")(x)\n",
    "x = Dense(n_hidden_3, activation='relu', name = \"Hidden_Layer_3\")(x)\n",
    "x = Dense(n_hidden_4, activation='relu', name = \"Hidden_Layer_4\")(x)\n",
    "output = Dense(num_digits, activation='softmax', name = \"Output_Layer\")(x)\n",
    "\n",
    "learning_rate = 0.01\n",
    "adam = keras.optimizers.Adam(lr=learning_rate)\n",
    "model2a = Model(Inp, output)\n",
    "\n",
    "model2a.compile(loss='categorical_crossentropy',\n",
    "              optimizer='adam',\n",
    "              metrics=['accuracy'])"
   ]
  },
  {
   "cell_type": "code",
   "execution_count": 36,
   "metadata": {},
   "outputs": [
    {
     "name": "stdout",
     "output_type": "stream",
     "text": [
      "Train on 33600 samples, validate on 8400 samples\n",
      "Epoch 1/20\n",
      " - 5s - loss: 0.3382 - acc: 0.8984 - val_loss: 0.2037 - val_acc: 0.9375\n",
      "Epoch 2/20\n",
      " - 4s - loss: 0.1242 - acc: 0.9607 - val_loss: 0.1300 - val_acc: 0.9607\n",
      "Epoch 3/20\n",
      " - 4s - loss: 0.0817 - acc: 0.9747 - val_loss: 0.0971 - val_acc: 0.9695\n",
      "Epoch 4/20\n",
      " - 4s - loss: 0.0599 - acc: 0.9805 - val_loss: 0.0884 - val_acc: 0.9746\n",
      "Epoch 5/20\n",
      " - 4s - loss: 0.0480 - acc: 0.9847 - val_loss: 0.1097 - val_acc: 0.9695\n",
      "Epoch 6/20\n",
      " - 4s - loss: 0.0332 - acc: 0.9894 - val_loss: 0.1161 - val_acc: 0.9680\n",
      "Epoch 7/20\n",
      " - 4s - loss: 0.0336 - acc: 0.9885 - val_loss: 0.0990 - val_acc: 0.9737\n",
      "Epoch 8/20\n",
      " - 4s - loss: 0.0302 - acc: 0.9901 - val_loss: 0.1007 - val_acc: 0.9739\n",
      "Epoch 9/20\n",
      " - 4s - loss: 0.0183 - acc: 0.9942 - val_loss: 0.1190 - val_acc: 0.9719\n",
      "Epoch 10/20\n",
      " - 4s - loss: 0.0179 - acc: 0.9944 - val_loss: 0.1288 - val_acc: 0.9704\n",
      "Epoch 11/20\n",
      " - 4s - loss: 0.0216 - acc: 0.9925 - val_loss: 0.1219 - val_acc: 0.9726\n",
      "Epoch 12/20\n",
      " - 4s - loss: 0.0200 - acc: 0.9939 - val_loss: 0.1370 - val_acc: 0.9702\n",
      "Epoch 13/20\n",
      " - 4s - loss: 0.0177 - acc: 0.9941 - val_loss: 0.1213 - val_acc: 0.9742\n",
      "Epoch 14/20\n",
      " - 4s - loss: 0.0129 - acc: 0.9958 - val_loss: 0.1216 - val_acc: 0.9751\n",
      "Epoch 15/20\n",
      " - 4s - loss: 0.0152 - acc: 0.9951 - val_loss: 0.1215 - val_acc: 0.9755\n",
      "Epoch 16/20\n",
      " - 4s - loss: 0.0139 - acc: 0.9957 - val_loss: 0.1284 - val_acc: 0.9745\n",
      "Epoch 17/20\n",
      " - 4s - loss: 0.0133 - acc: 0.9961 - val_loss: 0.1160 - val_acc: 0.9781\n",
      "Epoch 18/20\n",
      " - 4s - loss: 0.0097 - acc: 0.9971 - val_loss: 0.1376 - val_acc: 0.9752\n",
      "Epoch 19/20\n",
      " - 4s - loss: 0.0168 - acc: 0.9946 - val_loss: 0.1303 - val_acc: 0.9706\n",
      "Epoch 20/20\n",
      " - 4s - loss: 0.0115 - acc: 0.9963 - val_loss: 0.1228 - val_acc: 0.9767\n"
     ]
    }
   ],
   "source": [
    "history2a = model2a.fit(X_train, y_train,\n",
    "                        batch_size = batch_size,\n",
    "                        epochs = training_epochs,\n",
    "                        verbose = 2,\n",
    "                        validation_data=(X_cv, y_cv))"
   ]
  },
  {
   "cell_type": "markdown",
   "metadata": {},
   "source": [
    "Chaning the learning rate from 0.1 to 0.01 had a negligible effect on model accuracy.  As such, going forward we will stick with the default learning rate of 0.01.\n",
    "\n",
    "We proceed to fit a neural network with 5 hidden layers with the features in the hidden layer set as (300, 100, 100, 100, 200) respectively. To ensure that the two models are comparable, we will set the training epochs as 20, and the training batch size as 100.\n"
   ]
  },
  {
   "cell_type": "code",
   "execution_count": 37,
   "metadata": {},
   "outputs": [],
   "source": [
    "# Input Parameters\n",
    "n_input = 784 # number of features\n",
    "n_hidden_1 = 300\n",
    "n_hidden_2 = 100\n",
    "n_hidden_3 = 100\n",
    "n_hidden_4 = 100\n",
    "n_hidden_5 = 200\n",
    "num_digits = 10"
   ]
  },
  {
   "cell_type": "code",
   "execution_count": 38,
   "metadata": {},
   "outputs": [],
   "source": [
    "Inp = Input(shape=(784,))\n",
    "x = Dense(n_hidden_1, activation='relu', name = \"Hidden_Layer_1\")(Inp)\n",
    "x = Dense(n_hidden_2, activation='relu', name = \"Hidden_Layer_2\")(x)\n",
    "x = Dense(n_hidden_3, activation='relu', name = \"Hidden_Layer_3\")(x)\n",
    "x = Dense(n_hidden_4, activation='relu', name = \"Hidden_Layer_4\")(x)\n",
    "x = Dense(n_hidden_5, activation='relu', name = \"Hidden_Layer_5\")(x)\n",
    "output = Dense(num_digits, activation='softmax', name = \"Output_Layer\")(x)"
   ]
  },
  {
   "cell_type": "code",
   "execution_count": 39,
   "metadata": {},
   "outputs": [
    {
     "name": "stdout",
     "output_type": "stream",
     "text": [
      "_________________________________________________________________\n",
      "Layer (type)                 Output Shape              Param #   \n",
      "=================================================================\n",
      "input_4 (InputLayer)         (None, 784)               0         \n",
      "_________________________________________________________________\n",
      "Hidden_Layer_1 (Dense)       (None, 300)               235500    \n",
      "_________________________________________________________________\n",
      "Hidden_Layer_2 (Dense)       (None, 100)               30100     \n",
      "_________________________________________________________________\n",
      "Hidden_Layer_3 (Dense)       (None, 100)               10100     \n",
      "_________________________________________________________________\n",
      "Hidden_Layer_4 (Dense)       (None, 100)               10100     \n",
      "_________________________________________________________________\n",
      "Hidden_Layer_5 (Dense)       (None, 200)               20200     \n",
      "_________________________________________________________________\n",
      "Output_Layer (Dense)         (None, 10)                2010      \n",
      "=================================================================\n",
      "Total params: 308,010\n",
      "Trainable params: 308,010\n",
      "Non-trainable params: 0\n",
      "_________________________________________________________________\n"
     ]
    }
   ],
   "source": [
    "# Our model would have '7' layers - input layer, 5 hidden layer and 1 output layer\n",
    "model3 = Model(Inp, output)\n",
    "model3.summary() # We have 308,010 parameters to estimate"
   ]
  },
  {
   "cell_type": "code",
   "execution_count": 40,
   "metadata": {},
   "outputs": [],
   "source": [
    "# We rely on 'Adam' as our optimizing methodology\n",
    "adam = keras.optimizers.Adam(lr=0.01)\n",
    "\n",
    "model3.compile(loss='categorical_crossentropy',\n",
    "              optimizer='adam',\n",
    "              metrics=['accuracy'])"
   ]
  },
  {
   "cell_type": "code",
   "execution_count": 41,
   "metadata": {},
   "outputs": [
    {
     "name": "stdout",
     "output_type": "stream",
     "text": [
      "Train on 33600 samples, validate on 8400 samples\n",
      "Epoch 1/20\n",
      "33600/33600 [==============================] - 6s 180us/step - loss: 0.3550 - acc: 0.8940 - val_loss: 0.1763 - val_acc: 0.9488\n",
      "Epoch 2/20\n",
      "33600/33600 [==============================] - 4s 126us/step - loss: 0.1309 - acc: 0.9588 - val_loss: 0.1341 - val_acc: 0.9556\n",
      "Epoch 3/20\n",
      "33600/33600 [==============================] - 4s 127us/step - loss: 0.0870 - acc: 0.9721 - val_loss: 0.1046 - val_acc: 0.9700\n",
      "Epoch 4/20\n",
      "33600/33600 [==============================] - 4s 125us/step - loss: 0.0631 - acc: 0.9805 - val_loss: 0.1127 - val_acc: 0.9650\n",
      "Epoch 5/20\n",
      "33600/33600 [==============================] - 4s 125us/step - loss: 0.0508 - acc: 0.9831 - val_loss: 0.1136 - val_acc: 0.9676\n",
      "Epoch 6/20\n",
      "33600/33600 [==============================] - 4s 125us/step - loss: 0.0434 - acc: 0.9861 - val_loss: 0.1460 - val_acc: 0.9602\n",
      "Epoch 7/20\n",
      "33600/33600 [==============================] - 4s 126us/step - loss: 0.0330 - acc: 0.9896 - val_loss: 0.1519 - val_acc: 0.9632\n",
      "Epoch 8/20\n",
      "33600/33600 [==============================] - 4s 126us/step - loss: 0.0323 - acc: 0.9897 - val_loss: 0.1109 - val_acc: 0.9720\n",
      "Epoch 9/20\n",
      "33600/33600 [==============================] - 4s 126us/step - loss: 0.0270 - acc: 0.9913 - val_loss: 0.1037 - val_acc: 0.9724\n",
      "Epoch 10/20\n",
      "33600/33600 [==============================] - 4s 125us/step - loss: 0.0197 - acc: 0.9937 - val_loss: 0.1133 - val_acc: 0.9735\n",
      "Epoch 11/20\n",
      "33600/33600 [==============================] - 4s 126us/step - loss: 0.0241 - acc: 0.9928 - val_loss: 0.1034 - val_acc: 0.9744\n",
      "Epoch 12/20\n",
      "33600/33600 [==============================] - 4s 125us/step - loss: 0.0214 - acc: 0.9933 - val_loss: 0.1222 - val_acc: 0.9735\n",
      "Epoch 13/20\n",
      "33600/33600 [==============================] - 4s 126us/step - loss: 0.0205 - acc: 0.9935 - val_loss: 0.1168 - val_acc: 0.9724\n",
      "Epoch 14/20\n",
      "33600/33600 [==============================] - 4s 126us/step - loss: 0.0181 - acc: 0.9943 - val_loss: 0.1006 - val_acc: 0.9762\n",
      "Epoch 15/20\n",
      "33600/33600 [==============================] - 4s 125us/step - loss: 0.0139 - acc: 0.9957 - val_loss: 0.1246 - val_acc: 0.9742\n",
      "Epoch 16/20\n",
      "33600/33600 [==============================] - 4s 126us/step - loss: 0.0131 - acc: 0.9958 - val_loss: 0.1153 - val_acc: 0.9750\n",
      "Epoch 17/20\n",
      "33600/33600 [==============================] - 4s 128us/step - loss: 0.0155 - acc: 0.9949 - val_loss: 0.1142 - val_acc: 0.9754\n",
      "Epoch 18/20\n",
      "33600/33600 [==============================] - 4s 126us/step - loss: 0.0168 - acc: 0.9949 - val_loss: 0.1166 - val_acc: 0.9761\n",
      "Epoch 19/20\n",
      "33600/33600 [==============================] - 4s 126us/step - loss: 0.0133 - acc: 0.9961 - val_loss: 0.1142 - val_acc: 0.9750\n",
      "Epoch 20/20\n",
      "33600/33600 [==============================] - 4s 127us/step - loss: 0.0107 - acc: 0.9965 - val_loss: 0.1370 - val_acc: 0.9748\n"
     ]
    }
   ],
   "source": [
    "history3 = model3.fit(X_train, y_train,\n",
    "                      batch_size = batch_size,\n",
    "                      epochs = training_epochs,\n",
    "                      validation_data=(X_cv, y_cv))"
   ]
  },
  {
   "cell_type": "markdown",
   "metadata": {},
   "source": [
    "\n",
    "\n",
    "Compared to our first model, adding an additional layer did not significantly improve the accuracy from our previous model. However, there are computational costs (in terms of complexity) in implementing an additional layer in our neural network. Given that the benefits of an additional layer are low while the costs are high, we will stick with the 4 layer neural network.\n",
    "\n",
    "We now proceed to include dropout (dropout rate of 0.3) in our second model to prevent overfitting.\n"
   ]
  },
  {
   "cell_type": "code",
   "execution_count": 42,
   "metadata": {},
   "outputs": [],
   "source": [
    "# Input Parameters\n",
    "n_input = 784 # number of features\n",
    "n_hidden_1 = 300\n",
    "n_hidden_2 = 100\n",
    "n_hidden_3 = 100\n",
    "n_hidden_4 = 200\n",
    "num_digits = 10"
   ]
  },
  {
   "cell_type": "code",
   "execution_count": 43,
   "metadata": {},
   "outputs": [
    {
     "name": "stdout",
     "output_type": "stream",
     "text": [
      "WARNING:tensorflow:From C:\\Users\\User\\Anaconda3\\lib\\site-packages\\keras\\backend\\tensorflow_backend.py:3445: calling dropout (from tensorflow.python.ops.nn_ops) with keep_prob is deprecated and will be removed in a future version.\n",
      "Instructions for updating:\n",
      "Please use `rate` instead of `keep_prob`. Rate should be set to `rate = 1 - keep_prob`.\n"
     ]
    }
   ],
   "source": [
    "Inp = Input(shape=(784,))\n",
    "x = Dense(n_hidden_1, activation='relu', name = \"Hidden_Layer_1\")(Inp)\n",
    "x = Dropout(rate=0.7)(x)\n",
    "x = Dense(n_hidden_2, activation='relu', name = \"Hidden_Layer_2\")(x)\n",
    "x = Dropout(rate=0.7)(x)\n",
    "x = Dense(n_hidden_3, activation='relu', name = \"Hidden_Layer_3\")(x)\n",
    "x = Dropout(rate=0.7)(x)\n",
    "x = Dense(n_hidden_4, activation='relu', name = \"Hidden_Layer_4\")(x)\n",
    "output = Dense(num_digits, activation='softmax', name = \"Output_Layer\")(x)"
   ]
  },
  {
   "cell_type": "code",
   "execution_count": 44,
   "metadata": {},
   "outputs": [
    {
     "name": "stdout",
     "output_type": "stream",
     "text": [
      "_________________________________________________________________\n",
      "Layer (type)                 Output Shape              Param #   \n",
      "=================================================================\n",
      "input_5 (InputLayer)         (None, 784)               0         \n",
      "_________________________________________________________________\n",
      "Hidden_Layer_1 (Dense)       (None, 300)               235500    \n",
      "_________________________________________________________________\n",
      "dropout_1 (Dropout)          (None, 300)               0         \n",
      "_________________________________________________________________\n",
      "Hidden_Layer_2 (Dense)       (None, 100)               30100     \n",
      "_________________________________________________________________\n",
      "dropout_2 (Dropout)          (None, 100)               0         \n",
      "_________________________________________________________________\n",
      "Hidden_Layer_3 (Dense)       (None, 100)               10100     \n",
      "_________________________________________________________________\n",
      "dropout_3 (Dropout)          (None, 100)               0         \n",
      "_________________________________________________________________\n",
      "Hidden_Layer_4 (Dense)       (None, 200)               20200     \n",
      "_________________________________________________________________\n",
      "Output_Layer (Dense)         (None, 10)                2010      \n",
      "=================================================================\n",
      "Total params: 297,910\n",
      "Trainable params: 297,910\n",
      "Non-trainable params: 0\n",
      "_________________________________________________________________\n"
     ]
    }
   ],
   "source": [
    "# Our model would have '6' layers - input layer, 4 hidden layer and 1 output layer\n",
    "model4 = Model(Inp, output)\n",
    "model4.summary() # We have 297,910 parameters to estimate"
   ]
  },
  {
   "cell_type": "code",
   "execution_count": 45,
   "metadata": {},
   "outputs": [],
   "source": [
    "model4.compile(loss='categorical_crossentropy',\n",
    "              optimizer='adam',\n",
    "              metrics=['accuracy'])"
   ]
  },
  {
   "cell_type": "code",
   "execution_count": 46,
   "metadata": {},
   "outputs": [
    {
     "name": "stdout",
     "output_type": "stream",
     "text": [
      "Train on 33600 samples, validate on 8400 samples\n",
      "Epoch 1/20\n",
      "33600/33600 [==============================] - 7s 215us/step - loss: 1.6812 - acc: 0.3824 - val_loss: 0.7884 - val_acc: 0.7460\n",
      "Epoch 2/20\n",
      "33600/33600 [==============================] - 5s 155us/step - loss: 0.9123 - acc: 0.6985 - val_loss: 0.5103 - val_acc: 0.8381\n",
      "Epoch 3/20\n",
      "33600/33600 [==============================] - 5s 154us/step - loss: 0.7058 - acc: 0.7839 - val_loss: 0.3519 - val_acc: 0.9011\n",
      "Epoch 4/20\n",
      "33600/33600 [==============================] - 5s 154us/step - loss: 0.5865 - acc: 0.8300 - val_loss: 0.3580 - val_acc: 0.8814\n",
      "Epoch 5/20\n",
      "33600/33600 [==============================] - 5s 156us/step - loss: 0.5312 - acc: 0.8487 - val_loss: 0.2688 - val_acc: 0.9271\n",
      "Epoch 6/20\n",
      "33600/33600 [==============================] - 6s 166us/step - loss: 0.4922 - acc: 0.8613 - val_loss: 0.2610 - val_acc: 0.9310\n",
      "Epoch 7/20\n",
      "33600/33600 [==============================] - 6s 166us/step - loss: 0.4557 - acc: 0.8739 - val_loss: 0.2411 - val_acc: 0.9393\n",
      "Epoch 8/20\n",
      "33600/33600 [==============================] - 6s 167us/step - loss: 0.4308 - acc: 0.8850 - val_loss: 0.2656 - val_acc: 0.9260\n",
      "Epoch 9/20\n",
      "33600/33600 [==============================] - 5s 156us/step - loss: 0.4070 - acc: 0.8901 - val_loss: 0.2441 - val_acc: 0.9335\n",
      "Epoch 10/20\n",
      "33600/33600 [==============================] - 5s 157us/step - loss: 0.3846 - acc: 0.8965 - val_loss: 0.2571 - val_acc: 0.9255\n",
      "Epoch 11/20\n",
      "33600/33600 [==============================] - 5s 161us/step - loss: 0.3726 - acc: 0.9008 - val_loss: 0.2462 - val_acc: 0.9330\n",
      "Epoch 12/20\n",
      "33600/33600 [==============================] - 5s 162us/step - loss: 0.3604 - acc: 0.9028 - val_loss: 0.2745 - val_acc: 0.9108\n",
      "Epoch 13/20\n",
      "33600/33600 [==============================] - 5s 157us/step - loss: 0.3451 - acc: 0.9078 - val_loss: 0.2120 - val_acc: 0.9475\n",
      "Epoch 14/20\n",
      "33600/33600 [==============================] - 5s 156us/step - loss: 0.3433 - acc: 0.9085 - val_loss: 0.2152 - val_acc: 0.9460\n",
      "Epoch 15/20\n",
      "33600/33600 [==============================] - 5s 158us/step - loss: 0.3365 - acc: 0.9113 - val_loss: 0.2153 - val_acc: 0.9492\n",
      "Epoch 16/20\n",
      "33600/33600 [==============================] - 5s 159us/step - loss: 0.3314 - acc: 0.9126 - val_loss: 0.2252 - val_acc: 0.9400\n",
      "Epoch 17/20\n",
      "33600/33600 [==============================] - 5s 160us/step - loss: 0.3242 - acc: 0.9154 - val_loss: 0.2129 - val_acc: 0.9518\n",
      "Epoch 18/20\n",
      "33600/33600 [==============================] - 5s 163us/step - loss: 0.3160 - acc: 0.9176 - val_loss: 0.1999 - val_acc: 0.9548\n",
      "Epoch 19/20\n",
      "33600/33600 [==============================] - 5s 163us/step - loss: 0.3083 - acc: 0.9186 - val_loss: 0.2017 - val_acc: 0.9552\n",
      "Epoch 20/20\n",
      "33600/33600 [==============================] - 5s 156us/step - loss: 0.3057 - acc: 0.9207 - val_loss: 0.2004 - val_acc: 0.9540\n"
     ]
    }
   ],
   "source": [
    "history = model4.fit(X_train, y_train,\n",
    "                    batch_size = batch_size,\n",
    "                    epochs = training_epochs,\n",
    "                    validation_data=(X_cv, y_cv))"
   ]
  },
  {
   "cell_type": "markdown",
   "metadata": {},
   "source": [
    "When we included a drop out rate of 0.3 to the model, the model accuracy dropped markedly from 99% to circa 95%, which is not surprising.  The tradeofff here is that we can expect the model with the drop out rate to be less prone to overfitting.  "
   ]
  },
  {
   "cell_type": "markdown",
   "metadata": {},
   "source": [
    "## Summary & Conclusion\n",
    "In this classification exercise of MNIST data, we used Keras with TensorFlow as the backend, and tested the impact of tweaking the parameters on model accuracy.\n",
    "\n",
    "We found that tinkering with the learning rate and number of neuron layers did not offer significant improvement to model accuracy.  However, using Adam instead of Stochastic Gradient Descent as the optimizer did translate into meaningful improvement in accuracy.\n",
    "\n",
    "We also tested the impact of introducing a dropout rate to the model, to reduce overfitting, and found that the model accuracy degraded significantly, which is to be expected as a trade-off to reducing the risk of curve fitting."
   ]
  }
 ],
 "metadata": {
  "kernelspec": {
   "display_name": "Python 3",
   "language": "python",
   "name": "python3"
  },
  "language_info": {
   "codemirror_mode": {
    "name": "ipython",
    "version": 3
   },
   "file_extension": ".py",
   "mimetype": "text/x-python",
   "name": "python",
   "nbconvert_exporter": "python",
   "pygments_lexer": "ipython3",
   "version": "3.7.3"
  }
 },
 "nbformat": 4,
 "nbformat_minor": 2
}
