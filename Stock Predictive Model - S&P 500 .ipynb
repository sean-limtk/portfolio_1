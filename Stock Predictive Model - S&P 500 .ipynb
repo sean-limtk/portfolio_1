{
 "cells": [
  {
   "cell_type": "markdown",
   "metadata": {},
   "source": [
    "### 1. Introduction\n",
    "\n",
    "In this project, we will work with the S&P 500, a key benchmark index for investors worldwide.  The dataset comprises historial S&P 500 info from 1950 to 2015.  \n",
    "\n",
    "The columns of the dataset are:\n",
    "- Date - The date of the record.\n",
    "- Open - The opening price of the day (when trading starts).\n",
    "- High - The highest trade price during the day.\n",
    "- Low - The lowest trade price during the day.\n",
    "- Close - The closing price for the day (when trading ends).\n",
    "- Volume - The number of shares traded.\n",
    "- Adj Close - The daily closing price, adjusted retroactively to accounts for any corporate actions.\n",
    "\n",
    "We will use this dataset to develop a predictive model.  The train set uses the data from 1950-2012, while the test set uses data from 2013-2015.\n",
    "\n",
    "Disclaimer: This notebook is purely for demo purposes, and does not constitutes stock trading or investment advice."
   ]
  },
  {
   "cell_type": "markdown",
   "metadata": {},
   "source": [
    "### 2. Opening the dataset\n",
    "\n",
    "We start by importing the numpy, pandas, datetime, and sklearn libraries"
   ]
  },
  {
   "cell_type": "code",
   "execution_count": 1,
   "metadata": {},
   "outputs": [
    {
     "name": "stdout",
     "output_type": "stream",
     "text": [
      "            Date   Open   High    Low  Close     Volume  Adj Close\n",
      "16589 1950-01-03  16.66  16.66  16.66  16.66  1260000.0      16.66\n",
      "16588 1950-01-04  16.85  16.85  16.85  16.85  1890000.0      16.85\n",
      "16587 1950-01-05  16.93  16.93  16.93  16.93  2550000.0      16.93\n",
      "16586 1950-01-06  16.98  16.98  16.98  16.98  2010000.0      16.98\n",
      "16585 1950-01-09  17.08  17.08  17.08  17.08  2520000.0      17.08\n"
     ]
    }
   ],
   "source": [
    "import numpy as np\n",
    "import pandas as pd\n",
    "from datetime import datetime\n",
    "from sklearn.linear_model import LinearRegression\n",
    "from sklearn.metrics import mean_squared_error\n",
    "from sklearn.metrics import mean_absolute_error\n",
    "df = pd.read_csv('sphist.csv')\n",
    "df['Date'] = pd.to_datetime(df['Date'])\n",
    "\n",
    "# Sort the data by ascending date order\n",
    "df = df.sort_values(by=['Date'],ascending=True)\n",
    "print(df.head())"
   ]
  },
  {
   "cell_type": "markdown",
   "metadata": {},
   "source": [
    "### 3. Generating indicators\n",
    "\n",
    "For this exercise, we will use simple moving averages (SMA) for 5, 30 and 365 days.  Frist we create 3 blank columns:"
   ]
  },
  {
   "cell_type": "code",
   "execution_count": 2,
   "metadata": {},
   "outputs": [
    {
     "data": {
      "text/html": [
       "<div>\n",
       "<style scoped>\n",
       "    .dataframe tbody tr th:only-of-type {\n",
       "        vertical-align: middle;\n",
       "    }\n",
       "\n",
       "    .dataframe tbody tr th {\n",
       "        vertical-align: top;\n",
       "    }\n",
       "\n",
       "    .dataframe thead th {\n",
       "        text-align: right;\n",
       "    }\n",
       "</style>\n",
       "<table border=\"1\" class=\"dataframe\">\n",
       "  <thead>\n",
       "    <tr style=\"text-align: right;\">\n",
       "      <th></th>\n",
       "      <th>Volume</th>\n",
       "      <th>Adj Close</th>\n",
       "      <th>day_5</th>\n",
       "      <th>day_30</th>\n",
       "      <th>day_365</th>\n",
       "    </tr>\n",
       "  </thead>\n",
       "  <tbody>\n",
       "    <tr>\n",
       "      <th>16589</th>\n",
       "      <td>1260000.0</td>\n",
       "      <td>16.660000</td>\n",
       "      <td>0</td>\n",
       "      <td>0</td>\n",
       "      <td>0</td>\n",
       "    </tr>\n",
       "    <tr>\n",
       "      <th>16588</th>\n",
       "      <td>1890000.0</td>\n",
       "      <td>16.850000</td>\n",
       "      <td>0</td>\n",
       "      <td>0</td>\n",
       "      <td>0</td>\n",
       "    </tr>\n",
       "    <tr>\n",
       "      <th>16587</th>\n",
       "      <td>2550000.0</td>\n",
       "      <td>16.930000</td>\n",
       "      <td>0</td>\n",
       "      <td>0</td>\n",
       "      <td>0</td>\n",
       "    </tr>\n",
       "    <tr>\n",
       "      <th>16586</th>\n",
       "      <td>2010000.0</td>\n",
       "      <td>16.980000</td>\n",
       "      <td>0</td>\n",
       "      <td>0</td>\n",
       "      <td>0</td>\n",
       "    </tr>\n",
       "    <tr>\n",
       "      <th>16585</th>\n",
       "      <td>2520000.0</td>\n",
       "      <td>17.080000</td>\n",
       "      <td>0</td>\n",
       "      <td>0</td>\n",
       "      <td>0</td>\n",
       "    </tr>\n",
       "    <tr>\n",
       "      <th>16584</th>\n",
       "      <td>2160000.0</td>\n",
       "      <td>17.030001</td>\n",
       "      <td>0</td>\n",
       "      <td>0</td>\n",
       "      <td>0</td>\n",
       "    </tr>\n",
       "    <tr>\n",
       "      <th>16583</th>\n",
       "      <td>2630000.0</td>\n",
       "      <td>17.090000</td>\n",
       "      <td>0</td>\n",
       "      <td>0</td>\n",
       "      <td>0</td>\n",
       "    </tr>\n",
       "    <tr>\n",
       "      <th>16582</th>\n",
       "      <td>2970000.0</td>\n",
       "      <td>16.760000</td>\n",
       "      <td>0</td>\n",
       "      <td>0</td>\n",
       "      <td>0</td>\n",
       "    </tr>\n",
       "    <tr>\n",
       "      <th>16581</th>\n",
       "      <td>3330000.0</td>\n",
       "      <td>16.670000</td>\n",
       "      <td>0</td>\n",
       "      <td>0</td>\n",
       "      <td>0</td>\n",
       "    </tr>\n",
       "    <tr>\n",
       "      <th>16580</th>\n",
       "      <td>1460000.0</td>\n",
       "      <td>16.719999</td>\n",
       "      <td>0</td>\n",
       "      <td>0</td>\n",
       "      <td>0</td>\n",
       "    </tr>\n",
       "  </tbody>\n",
       "</table>\n",
       "</div>"
      ],
      "text/plain": [
       "          Volume  Adj Close  day_5  day_30  day_365\n",
       "16589  1260000.0  16.660000      0       0        0\n",
       "16588  1890000.0  16.850000      0       0        0\n",
       "16587  2550000.0  16.930000      0       0        0\n",
       "16586  2010000.0  16.980000      0       0        0\n",
       "16585  2520000.0  17.080000      0       0        0\n",
       "16584  2160000.0  17.030001      0       0        0\n",
       "16583  2630000.0  17.090000      0       0        0\n",
       "16582  2970000.0  16.760000      0       0        0\n",
       "16581  3330000.0  16.670000      0       0        0\n",
       "16580  1460000.0  16.719999      0       0        0"
      ]
     },
     "execution_count": 2,
     "metadata": {},
     "output_type": "execute_result"
    }
   ],
   "source": [
    "df['day_5'] = 0\n",
    "df['day_30'] = 0\n",
    "df['day_365'] = 0\n",
    "df.iloc[:10,5:]"
   ]
  },
  {
   "cell_type": "markdown",
   "metadata": {},
   "source": [
    "Using time series tools in pandas: <br>\n",
    "Next, we populate the 3 indicator columns using the .rolling().mean() method.\n",
    "To prevent look-ahead bias, we also apply the .shift() method to shift the moving averages back by one day.  <br>\n",
    "If done correctly, the 5-day moving average would begin on day 6, etc."
   ]
  },
  {
   "cell_type": "code",
   "execution_count": 3,
   "metadata": {},
   "outputs": [
    {
     "name": "stdout",
     "output_type": "stream",
     "text": [
      "(16590, 10)\n"
     ]
    },
    {
     "data": {
      "text/html": [
       "<div>\n",
       "<style scoped>\n",
       "    .dataframe tbody tr th:only-of-type {\n",
       "        vertical-align: middle;\n",
       "    }\n",
       "\n",
       "    .dataframe tbody tr th {\n",
       "        vertical-align: top;\n",
       "    }\n",
       "\n",
       "    .dataframe thead th {\n",
       "        text-align: right;\n",
       "    }\n",
       "</style>\n",
       "<table border=\"1\" class=\"dataframe\">\n",
       "  <thead>\n",
       "    <tr style=\"text-align: right;\">\n",
       "      <th></th>\n",
       "      <th>Volume</th>\n",
       "      <th>Adj Close</th>\n",
       "      <th>day_5</th>\n",
       "      <th>day_30</th>\n",
       "      <th>day_365</th>\n",
       "    </tr>\n",
       "  </thead>\n",
       "  <tbody>\n",
       "    <tr>\n",
       "      <th>16589</th>\n",
       "      <td>1260000.0</td>\n",
       "      <td>16.660000</td>\n",
       "      <td>NaN</td>\n",
       "      <td>NaN</td>\n",
       "      <td>NaN</td>\n",
       "    </tr>\n",
       "    <tr>\n",
       "      <th>16588</th>\n",
       "      <td>1890000.0</td>\n",
       "      <td>16.850000</td>\n",
       "      <td>NaN</td>\n",
       "      <td>NaN</td>\n",
       "      <td>NaN</td>\n",
       "    </tr>\n",
       "    <tr>\n",
       "      <th>16587</th>\n",
       "      <td>2550000.0</td>\n",
       "      <td>16.930000</td>\n",
       "      <td>NaN</td>\n",
       "      <td>NaN</td>\n",
       "      <td>NaN</td>\n",
       "    </tr>\n",
       "    <tr>\n",
       "      <th>16586</th>\n",
       "      <td>2010000.0</td>\n",
       "      <td>16.980000</td>\n",
       "      <td>NaN</td>\n",
       "      <td>NaN</td>\n",
       "      <td>NaN</td>\n",
       "    </tr>\n",
       "    <tr>\n",
       "      <th>16585</th>\n",
       "      <td>2520000.0</td>\n",
       "      <td>17.080000</td>\n",
       "      <td>NaN</td>\n",
       "      <td>NaN</td>\n",
       "      <td>NaN</td>\n",
       "    </tr>\n",
       "    <tr>\n",
       "      <th>16584</th>\n",
       "      <td>2160000.0</td>\n",
       "      <td>17.030001</td>\n",
       "      <td>16.900</td>\n",
       "      <td>NaN</td>\n",
       "      <td>NaN</td>\n",
       "    </tr>\n",
       "    <tr>\n",
       "      <th>16583</th>\n",
       "      <td>2630000.0</td>\n",
       "      <td>17.090000</td>\n",
       "      <td>16.974</td>\n",
       "      <td>NaN</td>\n",
       "      <td>NaN</td>\n",
       "    </tr>\n",
       "    <tr>\n",
       "      <th>16582</th>\n",
       "      <td>2970000.0</td>\n",
       "      <td>16.760000</td>\n",
       "      <td>17.022</td>\n",
       "      <td>NaN</td>\n",
       "      <td>NaN</td>\n",
       "    </tr>\n",
       "    <tr>\n",
       "      <th>16581</th>\n",
       "      <td>3330000.0</td>\n",
       "      <td>16.670000</td>\n",
       "      <td>16.988</td>\n",
       "      <td>NaN</td>\n",
       "      <td>NaN</td>\n",
       "    </tr>\n",
       "    <tr>\n",
       "      <th>16580</th>\n",
       "      <td>1460000.0</td>\n",
       "      <td>16.719999</td>\n",
       "      <td>16.926</td>\n",
       "      <td>NaN</td>\n",
       "      <td>NaN</td>\n",
       "    </tr>\n",
       "  </tbody>\n",
       "</table>\n",
       "</div>"
      ],
      "text/plain": [
       "          Volume  Adj Close   day_5  day_30  day_365\n",
       "16589  1260000.0  16.660000     NaN     NaN      NaN\n",
       "16588  1890000.0  16.850000     NaN     NaN      NaN\n",
       "16587  2550000.0  16.930000     NaN     NaN      NaN\n",
       "16586  2010000.0  16.980000     NaN     NaN      NaN\n",
       "16585  2520000.0  17.080000     NaN     NaN      NaN\n",
       "16584  2160000.0  17.030001  16.900     NaN      NaN\n",
       "16583  2630000.0  17.090000  16.974     NaN      NaN\n",
       "16582  2970000.0  16.760000  17.022     NaN      NaN\n",
       "16581  3330000.0  16.670000  16.988     NaN      NaN\n",
       "16580  1460000.0  16.719999  16.926     NaN      NaN"
      ]
     },
     "execution_count": 3,
     "metadata": {},
     "output_type": "execute_result"
    }
   ],
   "source": [
    "df['day_5'] = df['Close'].rolling(5).mean()\n",
    "df['day_5'] = df['day_5'].shift()\n",
    "df['day_30'] = df['Close'].rolling(30).mean()\n",
    "df['day_30'] = df['day_30'].shift()\n",
    "df['day_365'] = df['Close'].rolling(365).mean()\n",
    "df['day_365'] = df['day_365'].shift()\n",
    "print(df.shape)\n",
    "df.iloc[:10,5:]"
   ]
  },
  {
   "cell_type": "markdown",
   "metadata": {},
   "source": [
    "### 4. Cleaning up the data\n",
    "\n",
    "As can be seen from the above df index slice, the day_5, day_30 and\tday_365 column produced a number of NaN values, as these rows do not have enough historical data to generate them.  In particular, given that the dataset started on 1950-01-03, any rows that fall before 1951-01-03 would have NaN values for day_365 (the 365-day moving average)."
   ]
  },
  {
   "cell_type": "code",
   "execution_count": 4,
   "metadata": {},
   "outputs": [
    {
     "name": "stdout",
     "output_type": "stream",
     "text": [
      "(16225, 10)\n"
     ]
    },
    {
     "data": {
      "text/html": [
       "<div>\n",
       "<style scoped>\n",
       "    .dataframe tbody tr th:only-of-type {\n",
       "        vertical-align: middle;\n",
       "    }\n",
       "\n",
       "    .dataframe tbody tr th {\n",
       "        vertical-align: top;\n",
       "    }\n",
       "\n",
       "    .dataframe thead th {\n",
       "        text-align: right;\n",
       "    }\n",
       "</style>\n",
       "<table border=\"1\" class=\"dataframe\">\n",
       "  <thead>\n",
       "    <tr style=\"text-align: right;\">\n",
       "      <th></th>\n",
       "      <th>Date</th>\n",
       "      <th>Open</th>\n",
       "      <th>High</th>\n",
       "      <th>Low</th>\n",
       "      <th>Close</th>\n",
       "      <th>Volume</th>\n",
       "      <th>Adj Close</th>\n",
       "      <th>day_5</th>\n",
       "      <th>day_30</th>\n",
       "      <th>day_365</th>\n",
       "    </tr>\n",
       "  </thead>\n",
       "  <tbody>\n",
       "    <tr>\n",
       "      <th>16224</th>\n",
       "      <td>1951-06-19</td>\n",
       "      <td>22.020000</td>\n",
       "      <td>22.020000</td>\n",
       "      <td>22.020000</td>\n",
       "      <td>22.020000</td>\n",
       "      <td>1100000.0</td>\n",
       "      <td>22.020000</td>\n",
       "      <td>21.800</td>\n",
       "      <td>21.703333</td>\n",
       "      <td>19.447726</td>\n",
       "    </tr>\n",
       "    <tr>\n",
       "      <th>16223</th>\n",
       "      <td>1951-06-20</td>\n",
       "      <td>21.910000</td>\n",
       "      <td>21.910000</td>\n",
       "      <td>21.910000</td>\n",
       "      <td>21.910000</td>\n",
       "      <td>1120000.0</td>\n",
       "      <td>21.910000</td>\n",
       "      <td>21.900</td>\n",
       "      <td>21.683000</td>\n",
       "      <td>19.462411</td>\n",
       "    </tr>\n",
       "    <tr>\n",
       "      <th>16222</th>\n",
       "      <td>1951-06-21</td>\n",
       "      <td>21.780001</td>\n",
       "      <td>21.780001</td>\n",
       "      <td>21.780001</td>\n",
       "      <td>21.780001</td>\n",
       "      <td>1100000.0</td>\n",
       "      <td>21.780001</td>\n",
       "      <td>21.972</td>\n",
       "      <td>21.659667</td>\n",
       "      <td>19.476274</td>\n",
       "    </tr>\n",
       "    <tr>\n",
       "      <th>16221</th>\n",
       "      <td>1951-06-22</td>\n",
       "      <td>21.549999</td>\n",
       "      <td>21.549999</td>\n",
       "      <td>21.549999</td>\n",
       "      <td>21.549999</td>\n",
       "      <td>1340000.0</td>\n",
       "      <td>21.549999</td>\n",
       "      <td>21.960</td>\n",
       "      <td>21.631000</td>\n",
       "      <td>19.489562</td>\n",
       "    </tr>\n",
       "    <tr>\n",
       "      <th>16220</th>\n",
       "      <td>1951-06-25</td>\n",
       "      <td>21.290001</td>\n",
       "      <td>21.290001</td>\n",
       "      <td>21.290001</td>\n",
       "      <td>21.290001</td>\n",
       "      <td>2440000.0</td>\n",
       "      <td>21.290001</td>\n",
       "      <td>21.862</td>\n",
       "      <td>21.599000</td>\n",
       "      <td>19.502082</td>\n",
       "    </tr>\n",
       "  </tbody>\n",
       "</table>\n",
       "</div>"
      ],
      "text/plain": [
       "            Date       Open       High        Low      Close     Volume  \\\n",
       "16224 1951-06-19  22.020000  22.020000  22.020000  22.020000  1100000.0   \n",
       "16223 1951-06-20  21.910000  21.910000  21.910000  21.910000  1120000.0   \n",
       "16222 1951-06-21  21.780001  21.780001  21.780001  21.780001  1100000.0   \n",
       "16221 1951-06-22  21.549999  21.549999  21.549999  21.549999  1340000.0   \n",
       "16220 1951-06-25  21.290001  21.290001  21.290001  21.290001  2440000.0   \n",
       "\n",
       "       Adj Close   day_5     day_30    day_365  \n",
       "16224  22.020000  21.800  21.703333  19.447726  \n",
       "16223  21.910000  21.900  21.683000  19.462411  \n",
       "16222  21.780001  21.972  21.659667  19.476274  \n",
       "16221  21.549999  21.960  21.631000  19.489562  \n",
       "16220  21.290001  21.862  21.599000  19.502082  "
      ]
     },
     "execution_count": 4,
     "metadata": {},
     "output_type": "execute_result"
    }
   ],
   "source": [
    "df = df.dropna(axis = 0)\n",
    "print(df.shape)\n",
    "df.head()"
   ]
  },
  {
   "cell_type": "markdown",
   "metadata": {},
   "source": [
    "After cleaning up the NaN rows, we find that 365 rows were dropped as a result (from 16590 rows to 16225 rows)."
   ]
  },
  {
   "cell_type": "markdown",
   "metadata": {},
   "source": [
    "### 5. Splitting data into test and train sets\n",
    "#### 5.1 - Test set\n",
    "Our test set is defined as dates greater than or equal to 2013-01-01, while the train set contains rows in the data before 2013-01-01."
   ]
  },
  {
   "cell_type": "code",
   "execution_count": 5,
   "metadata": {},
   "outputs": [
    {
     "data": {
      "text/plain": [
       "4    True\n",
       "3    True\n",
       "2    True\n",
       "1    True\n",
       "0    True\n",
       "Name: Date, dtype: bool"
      ]
     },
     "execution_count": 5,
     "metadata": {},
     "output_type": "execute_result"
    }
   ],
   "source": [
    "# test set : greater than or equal to 2013-01-01\n",
    "# apply a date boolean operator\n",
    "a = df['Date']>=datetime(year=2013,month=1,day=1)\n",
    "a.tail()"
   ]
  },
  {
   "cell_type": "markdown",
   "metadata": {},
   "source": [
    "From the cell below we can see the boolean operator works properly and the test set starts from 2013-01-02. <br> Note: 2013-01-01 is not a trading day as it is New Year's Day."
   ]
  },
  {
   "cell_type": "code",
   "execution_count": 6,
   "metadata": {},
   "outputs": [
    {
     "data": {
      "text/html": [
       "<div>\n",
       "<style scoped>\n",
       "    .dataframe tbody tr th:only-of-type {\n",
       "        vertical-align: middle;\n",
       "    }\n",
       "\n",
       "    .dataframe tbody tr th {\n",
       "        vertical-align: top;\n",
       "    }\n",
       "\n",
       "    .dataframe thead th {\n",
       "        text-align: right;\n",
       "    }\n",
       "</style>\n",
       "<table border=\"1\" class=\"dataframe\">\n",
       "  <thead>\n",
       "    <tr style=\"text-align: right;\">\n",
       "      <th></th>\n",
       "      <th>Date</th>\n",
       "      <th>Open</th>\n",
       "      <th>High</th>\n",
       "      <th>Low</th>\n",
       "      <th>Close</th>\n",
       "      <th>Volume</th>\n",
       "      <th>Adj Close</th>\n",
       "      <th>day_5</th>\n",
       "      <th>day_30</th>\n",
       "      <th>day_365</th>\n",
       "    </tr>\n",
       "  </thead>\n",
       "  <tbody>\n",
       "    <tr>\n",
       "      <th>738</th>\n",
       "      <td>2013-01-02</td>\n",
       "      <td>1426.189941</td>\n",
       "      <td>1462.430054</td>\n",
       "      <td>1426.189941</td>\n",
       "      <td>1462.420044</td>\n",
       "      <td>4.202600e+09</td>\n",
       "      <td>1462.420044</td>\n",
       "      <td>1418.641992</td>\n",
       "      <td>1414.258667</td>\n",
       "      <td>1327.534055</td>\n",
       "    </tr>\n",
       "    <tr>\n",
       "      <th>737</th>\n",
       "      <td>2013-01-03</td>\n",
       "      <td>1462.420044</td>\n",
       "      <td>1465.469971</td>\n",
       "      <td>1455.530029</td>\n",
       "      <td>1459.369995</td>\n",
       "      <td>3.829730e+09</td>\n",
       "      <td>1459.369995</td>\n",
       "      <td>1425.793994</td>\n",
       "      <td>1417.676668</td>\n",
       "      <td>1327.908247</td>\n",
       "    </tr>\n",
       "    <tr>\n",
       "      <th>736</th>\n",
       "      <td>2013-01-04</td>\n",
       "      <td>1459.369995</td>\n",
       "      <td>1467.939941</td>\n",
       "      <td>1458.989990</td>\n",
       "      <td>1466.469971</td>\n",
       "      <td>3.424290e+09</td>\n",
       "      <td>1466.469971</td>\n",
       "      <td>1433.702002</td>\n",
       "      <td>1420.092668</td>\n",
       "      <td>1328.224877</td>\n",
       "    </tr>\n",
       "    <tr>\n",
       "      <th>735</th>\n",
       "      <td>2013-01-07</td>\n",
       "      <td>1466.469971</td>\n",
       "      <td>1466.469971</td>\n",
       "      <td>1456.619995</td>\n",
       "      <td>1461.890015</td>\n",
       "      <td>3.304970e+09</td>\n",
       "      <td>1461.890015</td>\n",
       "      <td>1443.376001</td>\n",
       "      <td>1422.714665</td>\n",
       "      <td>1328.557617</td>\n",
       "    </tr>\n",
       "    <tr>\n",
       "      <th>734</th>\n",
       "      <td>2013-01-08</td>\n",
       "      <td>1461.890015</td>\n",
       "      <td>1461.890015</td>\n",
       "      <td>1451.640015</td>\n",
       "      <td>1457.150024</td>\n",
       "      <td>3.601600e+09</td>\n",
       "      <td>1457.150024</td>\n",
       "      <td>1455.267993</td>\n",
       "      <td>1425.076664</td>\n",
       "      <td>1328.898603</td>\n",
       "    </tr>\n",
       "  </tbody>\n",
       "</table>\n",
       "</div>"
      ],
      "text/plain": [
       "          Date         Open         High          Low        Close  \\\n",
       "738 2013-01-02  1426.189941  1462.430054  1426.189941  1462.420044   \n",
       "737 2013-01-03  1462.420044  1465.469971  1455.530029  1459.369995   \n",
       "736 2013-01-04  1459.369995  1467.939941  1458.989990  1466.469971   \n",
       "735 2013-01-07  1466.469971  1466.469971  1456.619995  1461.890015   \n",
       "734 2013-01-08  1461.890015  1461.890015  1451.640015  1457.150024   \n",
       "\n",
       "           Volume    Adj Close        day_5       day_30      day_365  \n",
       "738  4.202600e+09  1462.420044  1418.641992  1414.258667  1327.534055  \n",
       "737  3.829730e+09  1459.369995  1425.793994  1417.676668  1327.908247  \n",
       "736  3.424290e+09  1466.469971  1433.702002  1420.092668  1328.224877  \n",
       "735  3.304970e+09  1461.890015  1443.376001  1422.714665  1328.557617  \n",
       "734  3.601600e+09  1457.150024  1455.267993  1425.076664  1328.898603  "
      ]
     },
     "execution_count": 6,
     "metadata": {},
     "output_type": "execute_result"
    }
   ],
   "source": [
    "# filter dates based on boolean operator in last cell\n",
    "test = df[a]\n",
    "test.head()"
   ]
  },
  {
   "cell_type": "code",
   "execution_count": 7,
   "metadata": {},
   "outputs": [
    {
     "data": {
      "text/plain": [
       "16224    True\n",
       "16223    True\n",
       "16222    True\n",
       "16221    True\n",
       "16220    True\n",
       "Name: Date, dtype: bool"
      ]
     },
     "execution_count": 7,
     "metadata": {},
     "output_type": "execute_result"
    }
   ],
   "source": [
    "b = df['Date']<datetime(year=2013,month=1,day=1)\n",
    "b.head()"
   ]
  },
  {
   "cell_type": "markdown",
   "metadata": {},
   "source": [
    "#### 5.2 - Train set\n",
    "For the train set, we check that the boolean operator works correctly, as the train set dates end before 2013-01-01:"
   ]
  },
  {
   "cell_type": "code",
   "execution_count": 8,
   "metadata": {},
   "outputs": [
    {
     "data": {
      "text/html": [
       "<div>\n",
       "<style scoped>\n",
       "    .dataframe tbody tr th:only-of-type {\n",
       "        vertical-align: middle;\n",
       "    }\n",
       "\n",
       "    .dataframe tbody tr th {\n",
       "        vertical-align: top;\n",
       "    }\n",
       "\n",
       "    .dataframe thead th {\n",
       "        text-align: right;\n",
       "    }\n",
       "</style>\n",
       "<table border=\"1\" class=\"dataframe\">\n",
       "  <thead>\n",
       "    <tr style=\"text-align: right;\">\n",
       "      <th></th>\n",
       "      <th>Date</th>\n",
       "      <th>Open</th>\n",
       "      <th>High</th>\n",
       "      <th>Low</th>\n",
       "      <th>Close</th>\n",
       "      <th>Volume</th>\n",
       "      <th>Adj Close</th>\n",
       "      <th>day_5</th>\n",
       "      <th>day_30</th>\n",
       "      <th>day_365</th>\n",
       "    </tr>\n",
       "  </thead>\n",
       "  <tbody>\n",
       "    <tr>\n",
       "      <th>743</th>\n",
       "      <td>2012-12-24</td>\n",
       "      <td>1430.150024</td>\n",
       "      <td>1430.150024</td>\n",
       "      <td>1424.660034</td>\n",
       "      <td>1426.660034</td>\n",
       "      <td>1.248960e+09</td>\n",
       "      <td>1426.660034</td>\n",
       "      <td>1437.360010</td>\n",
       "      <td>1405.926001</td>\n",
       "      <td>1326.114028</td>\n",
       "    </tr>\n",
       "    <tr>\n",
       "      <th>742</th>\n",
       "      <td>2012-12-26</td>\n",
       "      <td>1426.660034</td>\n",
       "      <td>1429.420044</td>\n",
       "      <td>1416.430054</td>\n",
       "      <td>1419.829956</td>\n",
       "      <td>2.285030e+09</td>\n",
       "      <td>1419.829956</td>\n",
       "      <td>1436.620019</td>\n",
       "      <td>1407.486336</td>\n",
       "      <td>1326.412494</td>\n",
       "    </tr>\n",
       "    <tr>\n",
       "      <th>741</th>\n",
       "      <td>2012-12-27</td>\n",
       "      <td>1419.829956</td>\n",
       "      <td>1422.800049</td>\n",
       "      <td>1401.800049</td>\n",
       "      <td>1418.099976</td>\n",
       "      <td>2.830180e+09</td>\n",
       "      <td>1418.099976</td>\n",
       "      <td>1431.228003</td>\n",
       "      <td>1408.813000</td>\n",
       "      <td>1326.716494</td>\n",
       "    </tr>\n",
       "    <tr>\n",
       "      <th>740</th>\n",
       "      <td>2012-12-28</td>\n",
       "      <td>1418.099976</td>\n",
       "      <td>1418.099976</td>\n",
       "      <td>1401.579956</td>\n",
       "      <td>1402.430054</td>\n",
       "      <td>2.426680e+09</td>\n",
       "      <td>1402.430054</td>\n",
       "      <td>1427.685986</td>\n",
       "      <td>1410.265332</td>\n",
       "      <td>1326.995836</td>\n",
       "    </tr>\n",
       "    <tr>\n",
       "      <th>739</th>\n",
       "      <td>2012-12-31</td>\n",
       "      <td>1402.430054</td>\n",
       "      <td>1426.739990</td>\n",
       "      <td>1398.109985</td>\n",
       "      <td>1426.189941</td>\n",
       "      <td>3.204330e+09</td>\n",
       "      <td>1426.189941</td>\n",
       "      <td>1419.434009</td>\n",
       "      <td>1411.830001</td>\n",
       "      <td>1327.261562</td>\n",
       "    </tr>\n",
       "  </tbody>\n",
       "</table>\n",
       "</div>"
      ],
      "text/plain": [
       "          Date         Open         High          Low        Close  \\\n",
       "743 2012-12-24  1430.150024  1430.150024  1424.660034  1426.660034   \n",
       "742 2012-12-26  1426.660034  1429.420044  1416.430054  1419.829956   \n",
       "741 2012-12-27  1419.829956  1422.800049  1401.800049  1418.099976   \n",
       "740 2012-12-28  1418.099976  1418.099976  1401.579956  1402.430054   \n",
       "739 2012-12-31  1402.430054  1426.739990  1398.109985  1426.189941   \n",
       "\n",
       "           Volume    Adj Close        day_5       day_30      day_365  \n",
       "743  1.248960e+09  1426.660034  1437.360010  1405.926001  1326.114028  \n",
       "742  2.285030e+09  1419.829956  1436.620019  1407.486336  1326.412494  \n",
       "741  2.830180e+09  1418.099976  1431.228003  1408.813000  1326.716494  \n",
       "740  2.426680e+09  1402.430054  1427.685986  1410.265332  1326.995836  \n",
       "739  3.204330e+09  1426.189941  1419.434009  1411.830001  1327.261562  "
      ]
     },
     "execution_count": 8,
     "metadata": {},
     "output_type": "execute_result"
    }
   ],
   "source": [
    "train = df[b]\n",
    "train.tail()"
   ]
  },
  {
   "cell_type": "markdown",
   "metadata": {},
   "source": [
    "### 6. Linear Regression\n",
    "\n",
    "We use the 3 moving average indicators we have created to perform Linear Regression against the S&P 500 index, as well as testing a combinination indicators to quantify the improvement in predictive accuracy, if any."
   ]
  },
  {
   "cell_type": "code",
   "execution_count": 9,
   "metadata": {},
   "outputs": [],
   "source": [
    "from sklearn.linear_model import LinearRegression\n",
    "from sklearn.metrics import mean_squared_error\n",
    "from sklearn.metrics import mean_absolute_error\n",
    "\n",
    "import matplotlib.pyplot as plt "
   ]
  },
  {
   "cell_type": "code",
   "execution_count": 10,
   "metadata": {},
   "outputs": [],
   "source": [
    "indicator_1 = 'day_5'\n",
    "indicator_2 = 'day_30'\n",
    "indicator_3 = 'day_365'\n",
    "indicator_4 = 'day_5, day_30'\n",
    "indicator_5 = 'day_5, day_30, day_365'"
   ]
  },
  {
   "cell_type": "markdown",
   "metadata": {},
   "source": [
    "#### indicator_1 = 'day_5'"
   ]
  },
  {
   "cell_type": "code",
   "execution_count": 11,
   "metadata": {
    "scrolled": true
   },
   "outputs": [
    {
     "name": "stdout",
     "output_type": "stream",
     "text": [
      "day_5 mean_absolute_error: 16.267878754475266\n",
      "day_5 mean_squared_error: 493.2698288743041\n"
     ]
    },
    {
     "data": {
      "image/png": "[encoded data removed]",
      "text/plain": [
       "<Figure size 432x288 with 1 Axes>"
      ]
     },
     "metadata": {
      "needs_background": "light"
     },
     "output_type": "display_data"
    }
   ],
   "source": [
    "lr = LinearRegression()\n",
    "lr.fit(train[['day_5']],train[['Close']])\n",
    "pre = lr.predict(test[['day_5']])\n",
    "\n",
    "# print(indicator_1, 'coef:', lr.coef_)\n",
    "# print(indicator_1, 'intercept:', lr.intercept_)\n",
    "\n",
    "mae_1 = mean_absolute_error(test['Close'],pre)\n",
    "print(indicator_1,'mean_absolute_error:', mae_1)\n",
    "\n",
    "mse_1 = mean_squared_error(test['Close'],pre)\n",
    "print(indicator_1,'mean_squared_error:', mse_1)\n",
    "\n",
    "plt.plot(test['Date'],pre, color='red', linewidth=1)\n",
    "plt.plot(test['Date'], test['Close'], color='blue', linewidth=1)\n",
    "plt.title('indicator_1 (red) vs S&P 500 (blue)')\n",
    "plt.show()"
   ]
  },
  {
   "cell_type": "markdown",
   "metadata": {},
   "source": [
    "From the chart, we can see that indicator_1 tracks the index closely."
   ]
  },
  {
   "cell_type": "markdown",
   "metadata": {},
   "source": [
    "#### indicator_2 = 'day_30'"
   ]
  },
  {
   "cell_type": "code",
   "execution_count": 12,
   "metadata": {
    "scrolled": true
   },
   "outputs": [
    {
     "name": "stdout",
     "output_type": "stream",
     "text": [
      "day_30 mean_absolute_error: 31.970513557097345\n",
      "day_30 mean_squared_error: 1636.5809684230187\n"
     ]
    },
    {
     "data": {
      "image/png": "[encoded data removed]",
      "text/plain": [
       "<Figure size 432x288 with 1 Axes>"
      ]
     },
     "metadata": {
      "needs_background": "light"
     },
     "output_type": "display_data"
    }
   ],
   "source": [
    "lr = LinearRegression()\n",
    "lr.fit(train[['day_30']],train[['Close']])\n",
    "pre = lr.predict(test[['day_30']])\n",
    "\n",
    "# print(indicator_2, 'coef:', lr.coef_)\n",
    "# print(indicator_2, 'intercept:', lr.intercept_)\n",
    "\n",
    "mae_2 = mean_absolute_error(test['Close'],pre)\n",
    "print(indicator_2,'mean_absolute_error:', mae_2)\n",
    "\n",
    "mse_2 = mean_squared_error(test['Close'],pre)\n",
    "print(indicator_2,'mean_squared_error:', mse_2)\n",
    "\n",
    "plt.plot(test['Date'],pre, color='red', linewidth=1)\n",
    "plt.plot(test['Date'], test['Close'], color='blue', linewidth=1)\n",
    "plt.title('indicator_2 (red) vs S&P 500 (blue)')\n",
    "plt.show()"
   ]
  },
  {
   "cell_type": "markdown",
   "metadata": {},
   "source": [
    "From the chart above, we can see that indicator_2 has a higher mean_absolute_error and mean_squared_error, and does not track the index as closely as indicator_1."
   ]
  },
  {
   "cell_type": "markdown",
   "metadata": {},
   "source": [
    "#### indicator_3 = 'day_365'"
   ]
  },
  {
   "cell_type": "code",
   "execution_count": 13,
   "metadata": {
    "scrolled": true
   },
   "outputs": [
    {
     "name": "stdout",
     "output_type": "stream",
     "text": [
      "day_365 mean_absolute_error: 146.631302068694\n",
      "day_365 mean_squared_error: 24609.62854669091\n"
     ]
    },
    {
     "data": {
      "image/png": "[encoded data removed]",
      "text/plain": [
       "<Figure size 432x288 with 1 Axes>"
      ]
     },
     "metadata": {
      "needs_background": "light"
     },
     "output_type": "display_data"
    }
   ],
   "source": [
    "lr = LinearRegression()\n",
    "lr.fit(train[['day_365']],train[['Close']])\n",
    "pre = lr.predict(test[['day_365']])\n",
    "\n",
    "# print(indicator_3, 'coef:', lr.coef_)\n",
    "# print(indicator_3, 'intercept:', lr.intercept_)\n",
    "\n",
    "mae_3 = mean_absolute_error(test['Close'],pre)\n",
    "print(indicator_3,'mean_absolute_error:', mae_3)\n",
    "\n",
    "mse_3 = mean_squared_error(test['Close'],pre)\n",
    "print(indicator_3,'mean_squared_error:', mse_3)\n",
    "\n",
    "plt.plot(test['Date'],pre, color='red', linewidth=1)\n",
    "plt.plot(test['Date'], test['Close'], color='blue', linewidth=1)\n",
    "plt.title('indicator_3 (red) vs S&P 500 (blue)')\n",
    "plt.show()"
   ]
  },
  {
   "cell_type": "markdown",
   "metadata": {},
   "source": [
    "From the chart above, we can see that indicator_3 has an even lower degree of accuracy of prediction than indicator_2."
   ]
  },
  {
   "cell_type": "markdown",
   "metadata": {},
   "source": [
    "#### indicator_4 = 'day_5, day_30'"
   ]
  },
  {
   "cell_type": "code",
   "execution_count": 14,
   "metadata": {},
   "outputs": [
    {
     "name": "stdout",
     "output_type": "stream",
     "text": [
      "day_5, day_30 mean_absolute_error: 16.149299962628422\n",
      "day_5, day_30 mean_squared_error: 493.8476589907151\n"
     ]
    },
    {
     "data": {
      "image/png": "[encoded data removed]",
      "text/plain": [
       "<Figure size 432x288 with 1 Axes>"
      ]
     },
     "metadata": {
      "needs_background": "light"
     },
     "output_type": "display_data"
    }
   ],
   "source": [
    "lr = LinearRegression()\n",
    "lr.fit(train[['day_5','day_30']],train[['Close']])\n",
    "pre = lr.predict(test[['day_5','day_30']])\n",
    "\n",
    "# print(indicator_4, 'coef:', lr.coef_)\n",
    "# print(indicator_4, 'intercept:', lr.intercept_)\n",
    "\n",
    "mae_4 = mean_absolute_error(test['Close'],pre)\n",
    "print(indicator_4,'mean_absolute_error:', mae_4)\n",
    "\n",
    "mse_4 = mean_squared_error(test['Close'],pre)\n",
    "print(indicator_4,'mean_squared_error:', mse_4)\n",
    "\n",
    "plt.plot(test['Date'],pre, color='red', linewidth=1)\n",
    "plt.plot(test['Date'], test['Close'], color='blue', linewidth=1)\n",
    "plt.title('indicator_4 (red) vs S&P 500 (blue)')\n",
    "plt.show()"
   ]
  },
  {
   "cell_type": "markdown",
   "metadata": {},
   "source": [
    "#### indicator_5 = 'day_5, day_30, day_365'"
   ]
  },
  {
   "cell_type": "code",
   "execution_count": 15,
   "metadata": {},
   "outputs": [
    {
     "name": "stdout",
     "output_type": "stream",
     "text": [
      "day_5, day_30, day_365 mean_absolute_error: 16.14243964355453\n",
      "day_5, day_30, day_365 mean_squared_error: 493.7313030125896\n"
     ]
    },
    {
     "data": {
      "image/png": "[encoded data removed]",
      "text/plain": [
       "<Figure size 432x288 with 1 Axes>"
      ]
     },
     "metadata": {
      "needs_background": "light"
     },
     "output_type": "display_data"
    }
   ],
   "source": [
    "lr = LinearRegression()\n",
    "lr.fit(train[['day_5','day_30','day_365']],train[['Close']])\n",
    "pre = lr.predict(test[['day_5','day_30','day_365']])\n",
    "\n",
    "# print(indicator_5, 'coef:', lr.coef_)\n",
    "# print(indicator_5, 'intercept:', lr.intercept_)\n",
    "\n",
    "mae_5 = mean_absolute_error(test['Close'],pre)\n",
    "print(indicator_5,'mean_absolute_error:', mae_5)\n",
    "\n",
    "mse_5 = mean_squared_error(test['Close'],pre)\n",
    "print(indicator_5,'mean_squared_error:', mse_5)\n",
    "\n",
    "plt.plot(test['Date'],pre, color='red', linewidth=1)\n",
    "plt.plot(test['Date'], test['Close'], color='blue', linewidth=1)\n",
    "plt.title('indicator_5 (red) vs S&P 500 (blue)')\n",
    "plt.show()"
   ]
  },
  {
   "cell_type": "markdown",
   "metadata": {
    "collapsed": true
   },
   "source": [
    "#### Comparison of mean_absolute_error and mean_squared_error:"
   ]
  },
  {
   "cell_type": "code",
   "execution_count": 16,
   "metadata": {},
   "outputs": [
    {
     "name": "stdout",
     "output_type": "stream",
     "text": [
      "day_5 mean_absolute_error: 16.267878754475266\n",
      "day_30 mean_absolute_error: 31.970513557097345\n",
      "day_365 mean_absolute_error: 146.631302068694\n",
      "day_5, day_30 mean_absolute_error: 16.149299962628422\n",
      "day_5, day_30, day_365 mean_absolute_error: 16.14243964355453\n"
     ]
    }
   ],
   "source": [
    "print(indicator_1,'mean_absolute_error:', mae_1)\n",
    "print(indicator_2,'mean_absolute_error:', mae_2)\n",
    "print(indicator_3,'mean_absolute_error:', mae_3)\n",
    "print(indicator_4,'mean_absolute_error:', mae_4)\n",
    "print(indicator_5,'mean_absolute_error:', mae_5)"
   ]
  },
  {
   "cell_type": "code",
   "execution_count": 17,
   "metadata": {},
   "outputs": [
    {
     "name": "stdout",
     "output_type": "stream",
     "text": [
      "day_5 mean_squared_error: 16.267878754475266\n",
      "day_30 mean_squared_error: 31.970513557097345\n",
      "day_365 mean_squared_error: 146.631302068694\n",
      "day_5, day_30 mean_squared_error: 16.149299962628422\n",
      "day_5, day_30, day_365 mean_squared_error: 16.14243964355453\n"
     ]
    }
   ],
   "source": [
    "print(indicator_1,'mean_squared_error:', mae_1)\n",
    "print(indicator_2,'mean_squared_error:', mae_2)\n",
    "print(indicator_3,'mean_squared_error:', mae_3)\n",
    "print(indicator_4,'mean_squared_error:', mae_4)\n",
    "print(indicator_5,'mean_squared_error:', mae_5)"
   ]
  },
  {
   "cell_type": "markdown",
   "metadata": {},
   "source": [
    "#### Observations:\n",
    "\n",
    "For both mean_absolute_error and mean_squared_error, combining all 3 indicators together appears to result in the highest accuracy of the linear regression, although the improvement in accuracy compared to combining 2 indicators appears to be minimal.\n",
    "\n",
    "In terms of individual indicators, it is unsurprising that the 5-day moving average would track the S&P500 index most closely, while the 365-day moving average results in the largest predictive error.  This can also been seen visually in the respective chart plots."
   ]
  }
 ],
 "metadata": {
  "kernelspec": {
   "display_name": "Python 3",
   "language": "python",
   "name": "python3"
  },
  "language_info": {
   "codemirror_mode": {
    "name": "ipython",
    "version": 3
   },
   "file_extension": ".py",
   "mimetype": "text/x-python",
   "name": "python",
   "nbconvert_exporter": "python",
   "pygments_lexer": "ipython3",
   "version": "3.7.1"
  }
 },
 "nbformat": 4,
 "nbformat_minor": 2
}
